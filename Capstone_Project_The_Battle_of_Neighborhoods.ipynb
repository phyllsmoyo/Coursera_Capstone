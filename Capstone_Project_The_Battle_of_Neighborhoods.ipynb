{
  "nbformat": 4,
  "nbformat_minor": 0,
  "metadata": {
    "colab": {
      "name": "Capstone Project - The Battle of Neighborhoods.ipynb",
      "provenance": [],
      "collapsed_sections": [],
      "authorship_tag": "ABX9TyMFwkoVKe/DmVsNQqWAdYvz",
      "include_colab_link": true
    },
    "kernelspec": {
      "name": "python3",
      "display_name": "Python 3"
    }
  },
  "cells": [
    {
      "cell_type": "markdown",
      "metadata": {
        "id": "view-in-github",
        "colab_type": "text"
      },
      "source": [
        "<a href=\"https://colab.research.google.com/github/phyllsmoyo/Coursera_Capstone/blob/branch_1/Capstone_Project_The_Battle_of_Neighborhoods.ipynb\" target=\"_parent\"><img src=\"https://colab.research.google.com/assets/colab-badge.svg\" alt=\"Open In Colab\"/></a>"
      ]
    },
    {
      "cell_type": "markdown",
      "metadata": {
        "id": "YdrtX-j7cJhZ"
      },
      "source": [
        "**The Battle of Neighborhoods**\r\n",
        "\r\n",
        "by [Phillip Sinothi Moyo](https://www.linkedin.com/in/phyllsmoyo/)"
      ]
    },
    {
      "cell_type": "markdown",
      "metadata": {
        "id": "75TAEu0zd7Ot"
      },
      "source": [
        "# **Introduction**"
      ]
    },
    {
      "cell_type": "markdown",
      "metadata": {
        "id": "ChshF8o0lpJk"
      },
      "source": [
        "Education is important for everyone in the world. Education is the process of achieving knowledge, values, skills, beliefs, and moral habits. For any country education enables people become better citizens, get a better-paid job, shows the difference between good and bad. Education shows us the importance of hard work and, at the same time, helps us grow and develop. Thus, we are able to shape a better society to live in by knowing and respecting rights, laws, and regulations. People without an education hardly get by in life because education teaches us how to think, how to work properly, and how to make decisions. The better the education, the more choices and opportunities one is going to have in life."
      ]
    },
    {
      "cell_type": "markdown",
      "metadata": {
        "id": "N0mEq5Vo1Q4E"
      },
      "source": [
        "**Importance of Education**\r\n",
        "\r\n",
        "A famous quote about education goes; \"Education is the key to success\". Education is important in the holistic development of a child’s social, emotional, cognitive and physical needs in order to build a solid and broad foundation for lifelong learning and wellbeing. \r\n"
      ]
    },
    {
      "cell_type": "markdown",
      "metadata": {
        "id": "IPSOWwpA1Vz7"
      },
      "source": [
        "**Business Problem**\r\n",
        "\r\n",
        "The objective of this project is to analyze universities and colleges of given provinces in South Africa and try to recommend the best Schools where they can send their children to school and are likely to obtain a good all around education with a balanced social life, on the other hand this project can be used by Department of Education and other wellwishers to identify poorly perfoming schools so that they can send required resources to improve the schools.\r\n",
        "\r\n",
        "The target audience for this project include parents, government and non-governental organizations insterested in the education sector."
      ]
    },
    {
      "cell_type": "markdown",
      "metadata": {
        "id": "vN9ZwZ0M3Wba"
      },
      "source": [
        "**Data**"
      ]
    },
    {
      "cell_type": "markdown",
      "metadata": {
        "id": "-Wtc5bh63_ey"
      },
      "source": [
        "To address the problem, we need to have the dataset that contains\r\n",
        "\r\n",
        "> * All the provinces of South Africa.\r\n",
        "> * All universities in South Africa.\r\n",
        "> * Latitude and longitudes of all the universities."
      ]
    },
    {
      "cell_type": "markdown",
      "metadata": {
        "id": "IHeqa8sR4nyB"
      },
      "source": [
        "Sources:\r\n",
        "1. [List of South African Universitis](https://en.wikipedia.org/wiki/List_of_universities_in_South_Africa)\r\n",
        "2. Obtain the coordinates of each University using thte Nominatin Geocorder.\r\n",
        "3. Explore the universities using the Foursquare API for each University.\r\n",
        "\r\n",
        "The Wikipedia is the major source of data that is being used to obtain all the Universities of South Africa. We then use the Pandas Library, a Python module that helps to scrape information from the web pages to extract all the tables from this Wikipedia page and convert it into a pandas dataframe. Then we use Python’s geopy package to obtain the latitude and longitude of all the Universities present in the dataframe."
      ]
    },
    {
      "cell_type": "markdown",
      "metadata": {
        "id": "O-h0LuFhbLH6"
      },
      "source": [
        "**Methodology**\r\n",
        "- Obtain data from the Wikipedia page.\r\n",
        "- Get coordinates using geocoder.\r\n",
        "- Get venues surrounding our universities of interest using the FourSquare API.\r\n",
        "- Filter venue categories.\r\n",
        "- Perform clustering on the data using k-means.\r\n",
        "- Visualize clusters using folium."
      ]
    },
    {
      "cell_type": "markdown",
      "metadata": {
        "id": "syEP7leNmT9x"
      },
      "source": [
        "## **Import the Libraries**"
      ]
    },
    {
      "cell_type": "code",
      "metadata": {
        "id": "hpdbclnBmhZQ"
      },
      "source": [
        "import pandas as pd # is a fast, powerful, flexible and easy to use open source data analysis and manipulation tool\r\n",
        "import numpy as np # is a general-purpose array-processing package for scientific computing\r\n",
        "import matplotlib.pyplot as plt # is a plotting library\r\n",
        "%matplotlib inline \r\n",
        "import requests # package to send HTTP requests using Python.\r\n",
        "import json # package used to work with JSON data\r\n",
        "from pandas.io.json import json_normalize # package Normalize semi-structured JSON data into a flat table.\r\n",
        "from geopy.geocoders import Nominatim\r\n",
        "import requests\r\n",
        "import matplotlib.cm as cm\r\n",
        "import matplotlib.colors as colors\r\n",
        "from matplotlib.colors import rgb2hex\r\n",
        "from sklearn.cluster import KMeans\r\n",
        "import folium\r\n",
        "import math\r\n",
        "import warnings\r\n",
        "warnings.filterwarnings(\"ignore\")\r\n",
        "pd.set_option('display.max_rows', None)\r\n",
        "pd.set_option('display.max_columns', None)\r\n",
        "pd.set_option('display.width', None)\r\n",
        "pd.set_option('display.max_colwidth', -1)"
      ],
      "execution_count": 183,
      "outputs": []
    },
    {
      "cell_type": "markdown",
      "metadata": {
        "id": "3kIajk9klY_M"
      },
      "source": [
        "# **Data Gathering**"
      ]
    },
    {
      "cell_type": "markdown",
      "metadata": {
        "id": "dYcRujTvdtGw"
      },
      "source": [
        "Url to with the table that contains the Universities."
      ]
    },
    {
      "cell_type": "code",
      "metadata": {
        "id": "Brb8gkiJledu"
      },
      "source": [
        "url = 'https://en.wikipedia.org/wiki/List_of_universities_in_South_Africa'"
      ],
      "execution_count": 184,
      "outputs": []
    },
    {
      "cell_type": "markdown",
      "metadata": {
        "id": "N17IAaF_d3HC"
      },
      "source": [
        "Pandas ```read_html``` is pretty simple and works well on many Wikipedia pages since the tables are not complicated."
      ]
    },
    {
      "cell_type": "code",
      "metadata": {
        "id": "d7SHO3JjmKaC",
        "colab": {
          "base_uri": "https://localhost:8080/"
        },
        "outputId": "79a89148-5315-4307-9478-f736392eb757"
      },
      "source": [
        "table = pd.read_html(url, flavor=['lxml', 'bs4'])\r\n",
        "print(f'Total tables in the url: {len(table)}')"
      ],
      "execution_count": 185,
      "outputs": [
        {
          "output_type": "stream",
          "text": [
            "Total tables in the url: 10\n"
          ],
          "name": "stdout"
        }
      ]
    },
    {
      "cell_type": "markdown",
      "metadata": {
        "id": "1Agz3WiFeTbc"
      },
      "source": [
        "The list of hte required universities is separated into 3 different tables, use pandas concat to add the tables together.\r\n"
      ]
    },
    {
      "cell_type": "code",
      "metadata": {
        "id": "Pci-YKhAXmQL"
      },
      "source": [
        "table1 = table[0]\r\n",
        "table2 = table[1]\r\n",
        "table3 = table[2]\r\n",
        "\r\n",
        "df_uni = pd.concat([table1, table2, table3])"
      ],
      "execution_count": 186,
      "outputs": []
    },
    {
      "cell_type": "markdown",
      "metadata": {
        "id": "Rv3XCf0Iej5l"
      },
      "source": [
        "Obtain the column names as list in order to filter for only the required columns."
      ]
    },
    {
      "cell_type": "code",
      "metadata": {
        "colab": {
          "base_uri": "https://localhost:8080/"
        },
        "id": "twtU4ouFbe-R",
        "outputId": "a10bcf9d-a258-496b-f29b-9fc209c2ba3b"
      },
      "source": [
        "df_uni.columns.tolist()"
      ],
      "execution_count": 187,
      "outputs": [
        {
          "output_type": "execute_result",
          "data": {
            "text/plain": [
              "['Institution',\n",
              " 'Nickname',\n",
              " 'Founded',\n",
              " 'University status',\n",
              " 'Undergrad',\n",
              " 'Postgrad',\n",
              " 'Total',\n",
              " 'Location(s)',\n",
              " 'Medium',\n",
              " 'Total (2011)']"
            ]
          },
          "metadata": {
            "tags": []
          },
          "execution_count": 187
        }
      ]
    },
    {
      "cell_type": "markdown",
      "metadata": {
        "id": "FsfS7OuneyNQ"
      },
      "source": [
        "Create a dataframe of tables with only columns that we are interested in."
      ]
    },
    {
      "cell_type": "code",
      "metadata": {
        "id": "ENwMecMsbniC"
      },
      "source": [
        "df = df_uni[['Institution', 'Location(s)']]\r\n",
        "df = df.rename(columns={'Location(s)': 'Location'})"
      ],
      "execution_count": 188,
      "outputs": []
    },
    {
      "cell_type": "markdown",
      "metadata": {
        "id": "KYjjYHgbfGkc"
      },
      "source": [
        "It should be noted that the some Universities has multiple campuses and to get the correct geocoordinates we will seperate the locations."
      ]
    },
    {
      "cell_type": "code",
      "metadata": {
        "colab": {
          "base_uri": "https://localhost:8080/",
          "height": 198
        },
        "id": "Dnz-FDWpda1A",
        "outputId": "4bd83130-6eb5-4a90-f843-1d04d764acac"
      },
      "source": [
        "#Split the universities to for each campus in each location and reset index\r\n",
        "df = df.assign(Location=df['Location'].str.split(',')).explode('Location').reset_index(drop=True)\r\n",
        "\r\n",
        "#View the resulting DataFrame to c heck if the split worked correctly\r\n",
        "df[df['Institution'] == 'Vaal University of Technology']"
      ],
      "execution_count": 189,
      "outputs": [
        {
          "output_type": "execute_result",
          "data": {
            "text/html": [
              "<div>\n",
              "<style scoped>\n",
              "    .dataframe tbody tr th:only-of-type {\n",
              "        vertical-align: middle;\n",
              "    }\n",
              "\n",
              "    .dataframe tbody tr th {\n",
              "        vertical-align: top;\n",
              "    }\n",
              "\n",
              "    .dataframe thead th {\n",
              "        text-align: right;\n",
              "    }\n",
              "</style>\n",
              "<table border=\"1\" class=\"dataframe\">\n",
              "  <thead>\n",
              "    <tr style=\"text-align: right;\">\n",
              "      <th></th>\n",
              "      <th>Institution</th>\n",
              "      <th>Location</th>\n",
              "    </tr>\n",
              "  </thead>\n",
              "  <tbody>\n",
              "    <tr>\n",
              "      <th>56</th>\n",
              "      <td>Vaal University of Technology</td>\n",
              "      <td>Vanderbijlpark</td>\n",
              "    </tr>\n",
              "    <tr>\n",
              "      <th>57</th>\n",
              "      <td>Vaal University of Technology</td>\n",
              "      <td>Secunda</td>\n",
              "    </tr>\n",
              "    <tr>\n",
              "      <th>58</th>\n",
              "      <td>Vaal University of Technology</td>\n",
              "      <td>Kempton Park</td>\n",
              "    </tr>\n",
              "    <tr>\n",
              "      <th>59</th>\n",
              "      <td>Vaal University of Technology</td>\n",
              "      <td>Klerksdorp</td>\n",
              "    </tr>\n",
              "    <tr>\n",
              "      <th>60</th>\n",
              "      <td>Vaal University of Technology</td>\n",
              "      <td>Upington</td>\n",
              "    </tr>\n",
              "  </tbody>\n",
              "</table>\n",
              "</div>"
            ],
            "text/plain": [
              "                      Institution        Location\n",
              "56  Vaal University of Technology  Vanderbijlpark\n",
              "57  Vaal University of Technology   Secunda      \n",
              "58  Vaal University of Technology   Kempton Park \n",
              "59  Vaal University of Technology   Klerksdorp   \n",
              "60  Vaal University of Technology   Upington     "
            ]
          },
          "metadata": {
            "tags": []
          },
          "execution_count": 189
        }
      ]
    },
    {
      "cell_type": "code",
      "metadata": {
        "colab": {
          "base_uri": "https://localhost:8080/",
          "height": 648
        },
        "id": "TLaV_XXUv5R-",
        "outputId": "585b8146-2885-406e-ed3b-a2456aa454a9"
      },
      "source": [
        "#Drop University of Pretoria - Johannesburg as there is no campus in Johannesburg.\r\n",
        "df.drop(index=17, inplace=True)\r\n",
        "\r\n",
        "#Remove University of South Africa from the DataFrame as it is a long distance University.\r\n",
        "filter = (df['Institution'] == 'University of South Africa')\r\n",
        "df = df[~filter].reset_index(drop=True)\r\n",
        "df.head(20)"
      ],
      "execution_count": 190,
      "outputs": [
        {
          "output_type": "execute_result",
          "data": {
            "text/html": [
              "<div>\n",
              "<style scoped>\n",
              "    .dataframe tbody tr th:only-of-type {\n",
              "        vertical-align: middle;\n",
              "    }\n",
              "\n",
              "    .dataframe tbody tr th {\n",
              "        vertical-align: top;\n",
              "    }\n",
              "\n",
              "    .dataframe thead th {\n",
              "        text-align: right;\n",
              "    }\n",
              "</style>\n",
              "<table border=\"1\" class=\"dataframe\">\n",
              "  <thead>\n",
              "    <tr style=\"text-align: right;\">\n",
              "      <th></th>\n",
              "      <th>Institution</th>\n",
              "      <th>Location</th>\n",
              "    </tr>\n",
              "  </thead>\n",
              "  <tbody>\n",
              "    <tr>\n",
              "      <th>0</th>\n",
              "      <td>University of Cape Town</td>\n",
              "      <td>Cape Town</td>\n",
              "    </tr>\n",
              "    <tr>\n",
              "      <th>1</th>\n",
              "      <td>University of Fort Hare</td>\n",
              "      <td>Alice</td>\n",
              "    </tr>\n",
              "    <tr>\n",
              "      <th>2</th>\n",
              "      <td>University of Fort Hare</td>\n",
              "      <td>East London</td>\n",
              "    </tr>\n",
              "    <tr>\n",
              "      <th>3</th>\n",
              "      <td>University of Fort Hare</td>\n",
              "      <td>Bhisho</td>\n",
              "    </tr>\n",
              "    <tr>\n",
              "      <th>4</th>\n",
              "      <td>University of the Free State</td>\n",
              "      <td>Bloemfontein</td>\n",
              "    </tr>\n",
              "    <tr>\n",
              "      <th>5</th>\n",
              "      <td>University of the Free State</td>\n",
              "      <td>QwaQwa</td>\n",
              "    </tr>\n",
              "    <tr>\n",
              "      <th>6</th>\n",
              "      <td>University of KwaZulu-Natal</td>\n",
              "      <td>Durban</td>\n",
              "    </tr>\n",
              "    <tr>\n",
              "      <th>7</th>\n",
              "      <td>University of KwaZulu-Natal</td>\n",
              "      <td>Pietermaritzburg</td>\n",
              "    </tr>\n",
              "    <tr>\n",
              "      <th>8</th>\n",
              "      <td>University of KwaZulu-Natal</td>\n",
              "      <td>Pinetown</td>\n",
              "    </tr>\n",
              "    <tr>\n",
              "      <th>9</th>\n",
              "      <td>University of KwaZulu-Natal</td>\n",
              "      <td>Westville</td>\n",
              "    </tr>\n",
              "    <tr>\n",
              "      <th>10</th>\n",
              "      <td>University of Limpopo</td>\n",
              "      <td>Polokwane</td>\n",
              "    </tr>\n",
              "    <tr>\n",
              "      <th>11</th>\n",
              "      <td>University of Limpopo</td>\n",
              "      <td>Turfloop</td>\n",
              "    </tr>\n",
              "    <tr>\n",
              "      <th>12</th>\n",
              "      <td>North-West University</td>\n",
              "      <td>Mafikeng</td>\n",
              "    </tr>\n",
              "    <tr>\n",
              "      <th>13</th>\n",
              "      <td>North-West University</td>\n",
              "      <td>Mankwe</td>\n",
              "    </tr>\n",
              "    <tr>\n",
              "      <th>14</th>\n",
              "      <td>North-West University</td>\n",
              "      <td>Potchefstroom</td>\n",
              "    </tr>\n",
              "    <tr>\n",
              "      <th>15</th>\n",
              "      <td>North-West University</td>\n",
              "      <td>Vanderbijlpark</td>\n",
              "    </tr>\n",
              "    <tr>\n",
              "      <th>16</th>\n",
              "      <td>University of Pretoria</td>\n",
              "      <td>Pretoria</td>\n",
              "    </tr>\n",
              "    <tr>\n",
              "      <th>17</th>\n",
              "      <td>Rhodes University</td>\n",
              "      <td>Grahamstown</td>\n",
              "    </tr>\n",
              "    <tr>\n",
              "      <th>18</th>\n",
              "      <td>Sefako Makgatho Health Sciences University4</td>\n",
              "      <td>Ga-Rankuwa</td>\n",
              "    </tr>\n",
              "    <tr>\n",
              "      <th>19</th>\n",
              "      <td>Sefako Makgatho Health Sciences University4</td>\n",
              "      <td>Pretoria</td>\n",
              "    </tr>\n",
              "  </tbody>\n",
              "</table>\n",
              "</div>"
            ],
            "text/plain": [
              "                                    Institution           Location\n",
              "0   University of Cape Town                      Cape Town        \n",
              "1   University of Fort Hare                      Alice            \n",
              "2   University of Fort Hare                       East London     \n",
              "3   University of Fort Hare                       Bhisho          \n",
              "4   University of the Free State                 Bloemfontein     \n",
              "5   University of the Free State                  QwaQwa          \n",
              "6   University of KwaZulu-Natal                  Durban           \n",
              "7   University of KwaZulu-Natal                   Pietermaritzburg\n",
              "8   University of KwaZulu-Natal                   Pinetown        \n",
              "9   University of KwaZulu-Natal                   Westville       \n",
              "10  University of Limpopo                        Polokwane        \n",
              "11  University of Limpopo                         Turfloop        \n",
              "12  North-West University                        Mafikeng         \n",
              "13  North-West University                         Mankwe          \n",
              "14  North-West University                         Potchefstroom   \n",
              "15  North-West University                         Vanderbijlpark  \n",
              "16  University of Pretoria                       Pretoria         \n",
              "17  Rhodes University                            Grahamstown      \n",
              "18  Sefako Makgatho Health Sciences University4  Ga-Rankuwa       \n",
              "19  Sefako Makgatho Health Sciences University4   Pretoria        "
            ]
          },
          "metadata": {
            "tags": []
          },
          "execution_count": 190
        }
      ]
    },
    {
      "cell_type": "code",
      "metadata": {
        "colab": {
          "base_uri": "https://localhost:8080/"
        },
        "id": "TOBk5sYj0MpB",
        "outputId": "6fba544f-2fbb-449e-fcaf-dc54bec33a1e"
      },
      "source": [
        "#Check if the DataFrame has any duplicates.\r\n",
        "df.duplicated().any()"
      ],
      "execution_count": 191,
      "outputs": [
        {
          "output_type": "execute_result",
          "data": {
            "text/plain": [
              "False"
            ]
          },
          "metadata": {
            "tags": []
          },
          "execution_count": 191
        }
      ]
    },
    {
      "cell_type": "code",
      "metadata": {
        "colab": {
          "base_uri": "https://localhost:8080/"
        },
        "id": "_sM9V8_J6jk8",
        "outputId": "4d89d70b-d830-482c-83ab-ff7625de49f4"
      },
      "source": [
        "df[\"Latitude\"] = \"\"\r\n",
        "df[\"Longitude\"] = \"\"\r\n",
        "df.shape"
      ],
      "execution_count": 192,
      "outputs": [
        {
          "output_type": "execute_result",
          "data": {
            "text/plain": [
              "(57, 4)"
            ]
          },
          "metadata": {
            "tags": []
          },
          "execution_count": 192
        }
      ]
    },
    {
      "cell_type": "code",
      "metadata": {
        "colab": {
          "base_uri": "https://localhost:8080/"
        },
        "id": "9u8KvGgVulaA",
        "outputId": "6d4a2df7-289b-4cc3-e0c5-b24e90727b54"
      },
      "source": [
        "# Need to drop those Neighborhood that the geocode does not find\r\n",
        "to_drop_unknown = []\r\n",
        "geolocator = Nominatim(user_agent=\"sa_explorer\")\r\n",
        "for index, row in df.iterrows():\r\n",
        "    address = row['Location'] + ', South Africa'\r\n",
        "    try:\r\n",
        "        location = geolocator.geocode(address)\r\n",
        "        latitude = location.latitude\r\n",
        "        longitude = location.longitude\r\n",
        "        print('The geograpical coordinate of {} are {}, {}.'.format(address, latitude, longitude))\r\n",
        "        df.loc[index, 'Latitude'] = latitude\r\n",
        "        df.loc[index, 'Longitude'] = longitude\r\n",
        "    except AttributeError:\r\n",
        "        print('Cannot do: {}, will drop index: {}'.format(address, index))\r\n",
        "        to_drop_unknown.append(index)"
      ],
      "execution_count": 193,
      "outputs": [
        {
          "output_type": "stream",
          "text": [
            "The geograpical coordinate of Cape Town, South Africa are -33.928992, 18.417396.\n",
            "The geograpical coordinate of Alice, South Africa are -32.7888889, 26.8344444.\n",
            "The geograpical coordinate of  East London, South Africa are -33.0191604, 27.8998573.\n",
            "The geograpical coordinate of  Bhisho, South Africa are -32.8494444, 27.4463889.\n",
            "The geograpical coordinate of Bloemfontein, South Africa are -29.116395, 26.215496.\n",
            "The geograpical coordinate of  QwaQwa, South Africa are -28.5359227, 28.8066789.\n",
            "The geograpical coordinate of Durban, South Africa are -29.861825, 31.009909.\n",
            "The geograpical coordinate of  Pietermaritzburg, South Africa are -29.6, 30.3788889.\n",
            "The geograpical coordinate of  Pinetown, South Africa are -29.818056, 30.884167.\n",
            "The geograpical coordinate of  Westville, South Africa are -29.8244444, 30.9386111.\n",
            "The geograpical coordinate of Polokwane, South Africa are -23.9058333, 29.4613889.\n",
            "The geograpical coordinate of  Turfloop, South Africa are -23.88687725, 29.73143763805989.\n",
            "The geograpical coordinate of Mafikeng, South Africa are -25.863611, 25.658611.\n",
            "The geograpical coordinate of  Mankwe, South Africa are -25.2458, 27.1167.\n",
            "The geograpical coordinate of  Potchefstroom, South Africa are -26.7150922, 27.1013887.\n",
            "The geograpical coordinate of  Vanderbijlpark, South Africa are -26.706891, 27.836271.\n",
            "The geograpical coordinate of Pretoria, South Africa are -25.7459374, 28.1879444.\n",
            "The geograpical coordinate of Grahamstown, South Africa are -33.3070589, 26.5272648.\n",
            "The geograpical coordinate of Ga-Rankuwa, South Africa are -25.6041667, 28.0052778.\n",
            "The geograpical coordinate of  Pretoria, South Africa are -25.7459374, 28.1879444.\n",
            "The geograpical coordinate of Stellenbosch, South Africa are -33.934444, 18.869167.\n",
            "The geograpical coordinate of  Saldanha Bay, South Africa are -33.0347222, 18.0097222.\n",
            "The geograpical coordinate of  Bellville, South Africa are -33.8837334, 18.636870177662715.\n",
            "The geograpical coordinate of  Tygerberg, South Africa are -33.8538143, 18.5886298.\n",
            "The geograpical coordinate of Bellville (Cape Town), South Africa are -33.8837334, 18.636870177662715.\n",
            "The geograpical coordinate of Johannesburg, South Africa are -26.205, 28.049722.\n",
            "The geograpical coordinate of Johannesburg, South Africa are -26.205, 28.049722.\n",
            "The geograpical coordinate of  Soweto, South Africa are -26.2227778, 27.89.\n",
            "The geograpical coordinate of Port Elizabeth, South Africa are -33.9617051, 25.6207519.\n",
            "The geograpical coordinate of  George, South Africa are -33.964444, 22.459722.\n",
            "The geograpical coordinate of Thohoyandou, South Africa are -22.9676429, 30.4596582.\n",
            "The geograpical coordinate of East London, South Africa are -33.0191604, 27.8998573.\n",
            "The geograpical coordinate of  Butterworth, South Africa are -32.330549, 28.142492.\n",
            "The geograpical coordinate of  Mthatha, South Africa are -31.589075, 28.789145.\n",
            "The geograpical coordinate of  Queenstown, South Africa are -31.892843, 26.8776814.\n",
            "The geograpical coordinate of Empangeni, South Africa are -28.746111, 31.897222.\n",
            "The geograpical coordinate of Bellville, South Africa are -33.8837334, 18.636870177662715.\n",
            "The geograpical coordinate of  Cape Town, South Africa are -33.928992, 18.417396.\n",
            "The geograpical coordinate of Bloemfontein, South Africa are -29.116395, 26.215496.\n",
            "The geograpical coordinate of  Welkom, South Africa are -27.982298, 26.737969.\n",
            "The geograpical coordinate of Durban, South Africa are -29.861825, 31.009909.\n",
            "The geograpical coordinate of  Pietermaritzburg, South Africa are -29.6, 30.3788889.\n",
            "The geograpical coordinate of Umlazi, South Africa are -29.9525, 30.900278.\n",
            "The geograpical coordinate of Mbombela, South Africa are -25.35033975, 31.25925876091336.\n",
            "The geograpical coordinate of Kimberley, South Africa are -28.7383012, 24.7642251.\n",
            "The geograpical coordinate of  Northern Cape, South Africa are -29.573402, 21.2051361.\n",
            "The geograpical coordinate of Pretoria, South Africa are -25.7459374, 28.1879444.\n",
            "The geograpical coordinate of  Mbombela, South Africa are -25.35033975, 31.25925876091336.\n",
            "The geograpical coordinate of  Polokwane, South Africa are -23.9058333, 29.4613889.\n",
            "The geograpical coordinate of  Ga-Rankuwa, South Africa are -25.6041667, 28.0052778.\n",
            "The geograpical coordinate of  Soshanguve, South Africa are -25.5263889, 28.0994444.\n",
            "The geograpical coordinate of  Witbank, South Africa are -25.8763485, 29.2010447.\n",
            "The geograpical coordinate of Vanderbijlpark, South Africa are -26.706891, 27.836271.\n",
            "The geograpical coordinate of  Secunda, South Africa are -26.516111, 29.202778.\n",
            "The geograpical coordinate of  Kempton Park, South Africa are -26.0964372, 28.2336325.\n",
            "The geograpical coordinate of  Klerksdorp, South Africa are -26.8625383, 26.6656814.\n",
            "The geograpical coordinate of  Upington, South Africa are -28.456325, 21.241867.\n"
          ],
          "name": "stdout"
        }
      ]
    },
    {
      "cell_type": "code",
      "metadata": {
        "colab": {
          "base_uri": "https://localhost:8080/",
          "height": 198
        },
        "id": "9OMRY9wUgTPI",
        "outputId": "f11e3d73-5a62-4f28-e652-f74a251b1dcb"
      },
      "source": [
        "df.head()"
      ],
      "execution_count": 207,
      "outputs": [
        {
          "output_type": "execute_result",
          "data": {
            "text/html": [
              "<div>\n",
              "<style scoped>\n",
              "    .dataframe tbody tr th:only-of-type {\n",
              "        vertical-align: middle;\n",
              "    }\n",
              "\n",
              "    .dataframe tbody tr th {\n",
              "        vertical-align: top;\n",
              "    }\n",
              "\n",
              "    .dataframe thead th {\n",
              "        text-align: right;\n",
              "    }\n",
              "</style>\n",
              "<table border=\"1\" class=\"dataframe\">\n",
              "  <thead>\n",
              "    <tr style=\"text-align: right;\">\n",
              "      <th></th>\n",
              "      <th>Institution</th>\n",
              "      <th>Location</th>\n",
              "      <th>Latitude</th>\n",
              "      <th>Longitude</th>\n",
              "    </tr>\n",
              "  </thead>\n",
              "  <tbody>\n",
              "    <tr>\n",
              "      <th>0</th>\n",
              "      <td>University of Cape Town</td>\n",
              "      <td>Cape Town</td>\n",
              "      <td>-33.929</td>\n",
              "      <td>18.4174</td>\n",
              "    </tr>\n",
              "    <tr>\n",
              "      <th>1</th>\n",
              "      <td>University of Fort Hare</td>\n",
              "      <td>Alice</td>\n",
              "      <td>-32.7889</td>\n",
              "      <td>26.8344</td>\n",
              "    </tr>\n",
              "    <tr>\n",
              "      <th>2</th>\n",
              "      <td>University of Fort Hare</td>\n",
              "      <td>East London</td>\n",
              "      <td>-33.0192</td>\n",
              "      <td>27.8999</td>\n",
              "    </tr>\n",
              "    <tr>\n",
              "      <th>3</th>\n",
              "      <td>University of Fort Hare</td>\n",
              "      <td>Bhisho</td>\n",
              "      <td>-32.8494</td>\n",
              "      <td>27.4464</td>\n",
              "    </tr>\n",
              "    <tr>\n",
              "      <th>4</th>\n",
              "      <td>University of the Free State</td>\n",
              "      <td>Bloemfontein</td>\n",
              "      <td>-29.1164</td>\n",
              "      <td>26.2155</td>\n",
              "    </tr>\n",
              "  </tbody>\n",
              "</table>\n",
              "</div>"
            ],
            "text/plain": [
              "                    Institution      Location Latitude Longitude\n",
              "0  University of Cape Town       Cape Town    -33.929   18.4174 \n",
              "1  University of Fort Hare       Alice        -32.7889  26.8344 \n",
              "2  University of Fort Hare        East London -33.0192  27.8999 \n",
              "3  University of Fort Hare        Bhisho      -32.8494  27.4464 \n",
              "4  University of the Free State  Bloemfontein -29.1164  26.2155 "
            ]
          },
          "metadata": {
            "tags": []
          },
          "execution_count": 207
        }
      ]
    },
    {
      "cell_type": "code",
      "metadata": {
        "colab": {
          "base_uri": "https://localhost:8080/",
          "height": 198
        },
        "id": "qP8-FJ-aJ35V",
        "outputId": "a3a990d9-6426-4ce0-880e-72ff9bee9ca6"
      },
      "source": [
        "df.rename(columns={'Location':'Town'}, inplace=True)\r\n",
        "df.head()"
      ],
      "execution_count": 218,
      "outputs": [
        {
          "output_type": "execute_result",
          "data": {
            "text/html": [
              "<div>\n",
              "<style scoped>\n",
              "    .dataframe tbody tr th:only-of-type {\n",
              "        vertical-align: middle;\n",
              "    }\n",
              "\n",
              "    .dataframe tbody tr th {\n",
              "        vertical-align: top;\n",
              "    }\n",
              "\n",
              "    .dataframe thead th {\n",
              "        text-align: right;\n",
              "    }\n",
              "</style>\n",
              "<table border=\"1\" class=\"dataframe\">\n",
              "  <thead>\n",
              "    <tr style=\"text-align: right;\">\n",
              "      <th></th>\n",
              "      <th>Institution</th>\n",
              "      <th>Town</th>\n",
              "      <th>Latitude</th>\n",
              "      <th>Longitude</th>\n",
              "    </tr>\n",
              "  </thead>\n",
              "  <tbody>\n",
              "    <tr>\n",
              "      <th>0</th>\n",
              "      <td>University of Cape Town</td>\n",
              "      <td>Cape Town</td>\n",
              "      <td>-33.929</td>\n",
              "      <td>18.4174</td>\n",
              "    </tr>\n",
              "    <tr>\n",
              "      <th>1</th>\n",
              "      <td>University of Fort Hare</td>\n",
              "      <td>Alice</td>\n",
              "      <td>-32.7889</td>\n",
              "      <td>26.8344</td>\n",
              "    </tr>\n",
              "    <tr>\n",
              "      <th>2</th>\n",
              "      <td>University of Fort Hare</td>\n",
              "      <td>East London</td>\n",
              "      <td>-33.0192</td>\n",
              "      <td>27.8999</td>\n",
              "    </tr>\n",
              "    <tr>\n",
              "      <th>3</th>\n",
              "      <td>University of Fort Hare</td>\n",
              "      <td>Bhisho</td>\n",
              "      <td>-32.8494</td>\n",
              "      <td>27.4464</td>\n",
              "    </tr>\n",
              "    <tr>\n",
              "      <th>4</th>\n",
              "      <td>University of the Free State</td>\n",
              "      <td>Bloemfontein</td>\n",
              "      <td>-29.1164</td>\n",
              "      <td>26.2155</td>\n",
              "    </tr>\n",
              "  </tbody>\n",
              "</table>\n",
              "</div>"
            ],
            "text/plain": [
              "                    Institution          Town Latitude Longitude\n",
              "0  University of Cape Town       Cape Town    -33.929   18.4174 \n",
              "1  University of Fort Hare       Alice        -32.7889  26.8344 \n",
              "2  University of Fort Hare        East London -33.0192  27.8999 \n",
              "3  University of Fort Hare        Bhisho      -32.8494  27.4464 \n",
              "4  University of the Free State  Bloemfontein -29.1164  26.2155 "
            ]
          },
          "metadata": {
            "tags": []
          },
          "execution_count": 218
        }
      ]
    },
    {
      "cell_type": "code",
      "metadata": {
        "colab": {
          "base_uri": "https://localhost:8080/",
          "height": 168
        },
        "id": "g1ID-BLnK1Ze",
        "outputId": "935e55e8-a819-4338-a89f-e81947089365"
      },
      "source": [
        "#Filter for Universities in Johannesburg and Pretoria\r\n",
        "filter_gp = (df['Town'] == 'Johannesburg') | (df['Town'] == 'Pretoria')\r\n",
        "df_gp = df[filter_gp]\r\n",
        "df_gp"
      ],
      "execution_count": 221,
      "outputs": [
        {
          "output_type": "execute_result",
          "data": {
            "text/html": [
              "<div>\n",
              "<style scoped>\n",
              "    .dataframe tbody tr th:only-of-type {\n",
              "        vertical-align: middle;\n",
              "    }\n",
              "\n",
              "    .dataframe tbody tr th {\n",
              "        vertical-align: top;\n",
              "    }\n",
              "\n",
              "    .dataframe thead th {\n",
              "        text-align: right;\n",
              "    }\n",
              "</style>\n",
              "<table border=\"1\" class=\"dataframe\">\n",
              "  <thead>\n",
              "    <tr style=\"text-align: right;\">\n",
              "      <th></th>\n",
              "      <th>Institution</th>\n",
              "      <th>Town</th>\n",
              "      <th>Latitude</th>\n",
              "      <th>Longitude</th>\n",
              "    </tr>\n",
              "  </thead>\n",
              "  <tbody>\n",
              "    <tr>\n",
              "      <th>16</th>\n",
              "      <td>University of Pretoria</td>\n",
              "      <td>Pretoria</td>\n",
              "      <td>-25.7459</td>\n",
              "      <td>28.1879</td>\n",
              "    </tr>\n",
              "    <tr>\n",
              "      <th>25</th>\n",
              "      <td>University of the Witwatersrand</td>\n",
              "      <td>Johannesburg</td>\n",
              "      <td>-26.205</td>\n",
              "      <td>28.0497</td>\n",
              "    </tr>\n",
              "    <tr>\n",
              "      <th>26</th>\n",
              "      <td>University of Johannesburg</td>\n",
              "      <td>Johannesburg</td>\n",
              "      <td>-26.205</td>\n",
              "      <td>28.0497</td>\n",
              "    </tr>\n",
              "    <tr>\n",
              "      <th>46</th>\n",
              "      <td>Tshwane University of Technology</td>\n",
              "      <td>Pretoria</td>\n",
              "      <td>-25.7459</td>\n",
              "      <td>28.1879</td>\n",
              "    </tr>\n",
              "  </tbody>\n",
              "</table>\n",
              "</div>"
            ],
            "text/plain": [
              "                         Institution          Town Latitude Longitude\n",
              "16  University of Pretoria            Pretoria     -25.7459  28.1879 \n",
              "25  University of the Witwatersrand   Johannesburg -26.205   28.0497 \n",
              "26  University of Johannesburg        Johannesburg -26.205   28.0497 \n",
              "46  Tshwane University of Technology  Pretoria     -25.7459  28.1879 "
            ]
          },
          "metadata": {
            "tags": []
          },
          "execution_count": 221
        }
      ]
    },
    {
      "cell_type": "code",
      "metadata": {
        "id": "uIsWdmJVM6K2"
      },
      "source": [
        "# define Foursquare Credentials and Version\r\n",
        "CLIENT_ID = 'AEEH2T5ADCYUM3YRO35VFBSMZDLIMBC13JW02XPLSMGVDO2R' # your Foursquare ID\r\n",
        "CLIENT_SECRET = 'XHLCJYOXO0QVK40PK3NGAACUIXUXZUKIFNJQ2FUVMZKVUYNB' # your Foursquare Secret\r\n",
        "VERSION = '20210118' # Foursquare API version\r\n"
      ],
      "execution_count": 222,
      "outputs": []
    },
    {
      "cell_type": "code",
      "metadata": {
        "id": "MxDAc1-QOA0S"
      },
      "source": [
        "#Top 100 venues that are within a radius of 500 meters.\r\n",
        "radius = 500\r\n",
        "LIMIT = 100\r\n",
        "\r\n",
        "venues = []\r\n",
        "\r\n",
        "for lat, long, town, institution in zip(df_gp['Latitude'], df_gp['Longitude'], df_gp['Town'], df_gp['Institution']):\r\n",
        "    url = \"https://api.foursquare.com/v2/venues/explore?client_id={}&client_secret={}&v={}&ll={},{}&radius={}&limit={}\".format(CLIENT_ID,\r\n",
        "                                                                                                                               CLIENT_SECRET,\r\n",
        "                                                                                                                               VERSION,\r\n",
        "                                                                                                                               lat,\r\n",
        "                                                                                                                               long,        \r\n",
        "                                                                                                                               radius,\r\n",
        "                                                                                                                               LIMIT)\r\n",
        "    \r\n",
        "    results = requests.get(url).json()[\"response\"]['groups'][0]['items']\r\n",
        "    \r\n",
        "    for venue in results:\r\n",
        "        venues.append((institution,\r\n",
        "                       town,\r\n",
        "                       lat,\r\n",
        "                       long, \r\n",
        "            venue['venue']['name'], \r\n",
        "            venue['venue']['location']['lat'], \r\n",
        "            venue['venue']['location']['lng'],  \r\n",
        "            venue['venue']['categories'][0]['name']))\r\n"
      ],
      "execution_count": 223,
      "outputs": []
    },
    {
      "cell_type": "code",
      "metadata": {
        "colab": {
          "base_uri": "https://localhost:8080/",
          "height": 340
        },
        "id": "hnbPasFuPiwX",
        "outputId": "f0a46cd8-2ba4-4fd4-b415-d03be887b81a"
      },
      "source": [
        "# convert the venues list into a new DataFrame\r\n",
        "venues_df = pd.DataFrame(venues)\r\n",
        "\r\n",
        "# define the column names\r\n",
        "venues_df.columns = ['Institution', 'Town', 'TownLatitude', 'TownLongitude', 'VenueName', 'VenueLatitude', 'VenueLongitude', 'VenueCategory']\r\n",
        "\r\n",
        "print(venues_df.shape)\r\n",
        "venues_df.head()"
      ],
      "execution_count": 227,
      "outputs": [
        {
          "output_type": "stream",
          "text": [
            "(32, 8)\n"
          ],
          "name": "stdout"
        },
        {
          "output_type": "execute_result",
          "data": {
            "text/html": [
              "<div>\n",
              "<style scoped>\n",
              "    .dataframe tbody tr th:only-of-type {\n",
              "        vertical-align: middle;\n",
              "    }\n",
              "\n",
              "    .dataframe tbody tr th {\n",
              "        vertical-align: top;\n",
              "    }\n",
              "\n",
              "    .dataframe thead th {\n",
              "        text-align: right;\n",
              "    }\n",
              "</style>\n",
              "<table border=\"1\" class=\"dataframe\">\n",
              "  <thead>\n",
              "    <tr style=\"text-align: right;\">\n",
              "      <th></th>\n",
              "      <th>Institution</th>\n",
              "      <th>Town</th>\n",
              "      <th>TownLatitude</th>\n",
              "      <th>TownLongitude</th>\n",
              "      <th>VenueName</th>\n",
              "      <th>VenueLatitude</th>\n",
              "      <th>VenueLongitude</th>\n",
              "      <th>VenueCategory</th>\n",
              "    </tr>\n",
              "  </thead>\n",
              "  <tbody>\n",
              "    <tr>\n",
              "      <th>0</th>\n",
              "      <td>University of Pretoria</td>\n",
              "      <td>Pretoria</td>\n",
              "      <td>-25.745937</td>\n",
              "      <td>28.187944</td>\n",
              "      <td>Café Riche</td>\n",
              "      <td>-25.746579</td>\n",
              "      <td>28.187304</td>\n",
              "      <td>Café</td>\n",
              "    </tr>\n",
              "    <tr>\n",
              "      <th>1</th>\n",
              "      <td>University of Pretoria</td>\n",
              "      <td>Pretoria</td>\n",
              "      <td>-25.745937</td>\n",
              "      <td>28.187944</td>\n",
              "      <td>TriBeCa Coffee Shop</td>\n",
              "      <td>-25.744835</td>\n",
              "      <td>28.188936</td>\n",
              "      <td>Coffee Shop</td>\n",
              "    </tr>\n",
              "    <tr>\n",
              "      <th>2</th>\n",
              "      <td>University of Pretoria</td>\n",
              "      <td>Pretoria</td>\n",
              "      <td>-25.745937</td>\n",
              "      <td>28.187944</td>\n",
              "      <td>Church Square</td>\n",
              "      <td>-25.746366</td>\n",
              "      <td>28.188006</td>\n",
              "      <td>Plaza</td>\n",
              "    </tr>\n",
              "    <tr>\n",
              "      <th>3</th>\n",
              "      <td>University of Pretoria</td>\n",
              "      <td>Pretoria</td>\n",
              "      <td>-25.745937</td>\n",
              "      <td>28.187944</td>\n",
              "      <td>Wimpy</td>\n",
              "      <td>-25.748014</td>\n",
              "      <td>28.189257</td>\n",
              "      <td>Burger Joint</td>\n",
              "    </tr>\n",
              "    <tr>\n",
              "      <th>4</th>\n",
              "      <td>University of Pretoria</td>\n",
              "      <td>Pretoria</td>\n",
              "      <td>-25.745937</td>\n",
              "      <td>28.187944</td>\n",
              "      <td>Wimpy</td>\n",
              "      <td>-25.744685</td>\n",
              "      <td>28.189424</td>\n",
              "      <td>Burger Joint</td>\n",
              "    </tr>\n",
              "  </tbody>\n",
              "</table>\n",
              "</div>"
            ],
            "text/plain": [
              "              Institution      Town  TownLatitude  TownLongitude  \\\n",
              "0  University of Pretoria  Pretoria -25.745937     28.187944       \n",
              "1  University of Pretoria  Pretoria -25.745937     28.187944       \n",
              "2  University of Pretoria  Pretoria -25.745937     28.187944       \n",
              "3  University of Pretoria  Pretoria -25.745937     28.187944       \n",
              "4  University of Pretoria  Pretoria -25.745937     28.187944       \n",
              "\n",
              "             VenueName  VenueLatitude  VenueLongitude VenueCategory  \n",
              "0  Café Riche          -25.746579      28.187304       Café          \n",
              "1  TriBeCa Coffee Shop -25.744835      28.188936       Coffee Shop   \n",
              "2  Church Square       -25.746366      28.188006       Plaza         \n",
              "3  Wimpy               -25.748014      28.189257       Burger Joint  \n",
              "4  Wimpy               -25.744685      28.189424       Burger Joint  "
            ]
          },
          "metadata": {
            "tags": []
          },
          "execution_count": 227
        }
      ]
    },
    {
      "cell_type": "code",
      "metadata": {
        "colab": {
          "base_uri": "https://localhost:8080/",
          "height": 322
        },
        "id": "U9hDyFzNQE-L",
        "outputId": "50f0d151-e252-4822-88be-8dd87be32b5d"
      },
      "source": [
        "\r\n",
        "venues_df.groupby([\"Institution\", \"Town\"]).count().head()"
      ],
      "execution_count": 230,
      "outputs": [
        {
          "output_type": "execute_result",
          "data": {
            "text/html": [
              "<div>\n",
              "<style scoped>\n",
              "    .dataframe tbody tr th:only-of-type {\n",
              "        vertical-align: middle;\n",
              "    }\n",
              "\n",
              "    .dataframe tbody tr th {\n",
              "        vertical-align: top;\n",
              "    }\n",
              "\n",
              "    .dataframe thead th {\n",
              "        text-align: right;\n",
              "    }\n",
              "</style>\n",
              "<table border=\"1\" class=\"dataframe\">\n",
              "  <thead>\n",
              "    <tr style=\"text-align: right;\">\n",
              "      <th></th>\n",
              "      <th></th>\n",
              "      <th>TownLatitude</th>\n",
              "      <th>TownLongitude</th>\n",
              "      <th>VenueName</th>\n",
              "      <th>VenueLatitude</th>\n",
              "      <th>VenueLongitude</th>\n",
              "      <th>VenueCategory</th>\n",
              "    </tr>\n",
              "    <tr>\n",
              "      <th>Institution</th>\n",
              "      <th>Town</th>\n",
              "      <th></th>\n",
              "      <th></th>\n",
              "      <th></th>\n",
              "      <th></th>\n",
              "      <th></th>\n",
              "      <th></th>\n",
              "    </tr>\n",
              "  </thead>\n",
              "  <tbody>\n",
              "    <tr>\n",
              "      <th>Tshwane University of Technology</th>\n",
              "      <th>Pretoria</th>\n",
              "      <td>10</td>\n",
              "      <td>10</td>\n",
              "      <td>10</td>\n",
              "      <td>10</td>\n",
              "      <td>10</td>\n",
              "      <td>10</td>\n",
              "    </tr>\n",
              "    <tr>\n",
              "      <th>University of Johannesburg</th>\n",
              "      <th>Johannesburg</th>\n",
              "      <td>6</td>\n",
              "      <td>6</td>\n",
              "      <td>6</td>\n",
              "      <td>6</td>\n",
              "      <td>6</td>\n",
              "      <td>6</td>\n",
              "    </tr>\n",
              "    <tr>\n",
              "      <th>University of Pretoria</th>\n",
              "      <th>Pretoria</th>\n",
              "      <td>10</td>\n",
              "      <td>10</td>\n",
              "      <td>10</td>\n",
              "      <td>10</td>\n",
              "      <td>10</td>\n",
              "      <td>10</td>\n",
              "    </tr>\n",
              "    <tr>\n",
              "      <th>University of the Witwatersrand</th>\n",
              "      <th>Johannesburg</th>\n",
              "      <td>6</td>\n",
              "      <td>6</td>\n",
              "      <td>6</td>\n",
              "      <td>6</td>\n",
              "      <td>6</td>\n",
              "      <td>6</td>\n",
              "    </tr>\n",
              "  </tbody>\n",
              "</table>\n",
              "</div>"
            ],
            "text/plain": [
              "                                               TownLatitude  TownLongitude  \\\n",
              "Institution                      Town                                        \n",
              "Tshwane University of Technology Pretoria      10            10              \n",
              "University of Johannesburg       Johannesburg  6             6               \n",
              "University of Pretoria           Pretoria      10            10              \n",
              "University of the Witwatersrand  Johannesburg  6             6               \n",
              "\n",
              "                                               VenueName  VenueLatitude  \\\n",
              "Institution                      Town                                     \n",
              "Tshwane University of Technology Pretoria      10         10              \n",
              "University of Johannesburg       Johannesburg  6          6               \n",
              "University of Pretoria           Pretoria      10         10              \n",
              "University of the Witwatersrand  Johannesburg  6          6               \n",
              "\n",
              "                                               VenueLongitude  VenueCategory  \n",
              "Institution                      Town                                         \n",
              "Tshwane University of Technology Pretoria      10              10             \n",
              "University of Johannesburg       Johannesburg  6               6              \n",
              "University of Pretoria           Pretoria      10              10             \n",
              "University of the Witwatersrand  Johannesburg  6               6              "
            ]
          },
          "metadata": {
            "tags": []
          },
          "execution_count": 230
        }
      ]
    },
    {
      "cell_type": "code",
      "metadata": {
        "colab": {
          "base_uri": "https://localhost:8080/"
        },
        "id": "CWxDQdHeQnnd",
        "outputId": "8d0f5aaf-8cf4-4e32-ccee-54a266887fa2"
      },
      "source": [
        "print('There are {} uniques categories.'.format(len(venues_df['VenueCategory'].unique())))"
      ],
      "execution_count": 231,
      "outputs": [
        {
          "output_type": "stream",
          "text": [
            "There are 9 uniques categories.\n"
          ],
          "name": "stdout"
        }
      ]
    },
    {
      "cell_type": "code",
      "metadata": {
        "colab": {
          "base_uri": "https://localhost:8080/"
        },
        "id": "hBYWDEe6REMn",
        "outputId": "432737ed-15f6-4398-8884-989de4e23fdb"
      },
      "source": [
        "venues_df['VenueCategory'].unique()[:10].tolist()"
      ],
      "execution_count": 233,
      "outputs": [
        {
          "output_type": "execute_result",
          "data": {
            "text/plain": [
              "['Café',\n",
              " 'Coffee Shop',\n",
              " 'Plaza',\n",
              " 'Burger Joint',\n",
              " 'Fast Food Restaurant',\n",
              " 'Pharmacy',\n",
              " 'Scenic Lookout',\n",
              " 'Breakfast Spot',\n",
              " 'Portuguese Restaurant']"
            ]
          },
          "metadata": {
            "tags": []
          },
          "execution_count": 233
        }
      ]
    },
    {
      "cell_type": "markdown",
      "metadata": {
        "id": "0fwvCNWxSQj7"
      },
      "source": [
        "**Analyze each area**"
      ]
    },
    {
      "cell_type": "code",
      "metadata": {
        "colab": {
          "base_uri": "https://localhost:8080/",
          "height": 323
        },
        "id": "GL883RNFRJQO",
        "outputId": "afe43e58-c907-41cd-bbf4-57569102b780"
      },
      "source": [
        "# one hot encoding\r\n",
        "gp_onehot = pd.get_dummies(venues_df[['VenueCategory']], prefix=\"\", prefix_sep=\"\")\r\n",
        "\r\n",
        "# add institution and town column back to dataframe\r\n",
        "gp_onehot['Institution'] = venues_df['Institution'] \r\n",
        "gp_onehot['Town'] = venues_df['Town'] \r\n",
        " \r\n",
        "\r\n",
        "# move instition and town column to the first column\r\n",
        "fixed_columns = list(gp_onehot.columns[-3:]) + list(gp_onehot.columns[:-3])\r\n",
        "gp_onehot = gp_onehot[fixed_columns]\r\n",
        "\r\n",
        "gp_onehot = gp_onehot[['Institution', 'Town', 'Scenic Lookout', 'Breakfast Spot',\r\n",
        "       'Burger Joint', 'Café', 'Coffee Shop', 'Fast Food Restaurant',\r\n",
        "       'Pharmacy', 'Plaza', 'Portuguese Restaurant']]\r\n",
        "\r\n",
        "print(gp_onehot.shape)\r\n",
        "gp_onehot.head()"
      ],
      "execution_count": 236,
      "outputs": [
        {
          "output_type": "stream",
          "text": [
            "(32, 11)\n"
          ],
          "name": "stdout"
        },
        {
          "output_type": "execute_result",
          "data": {
            "text/html": [
              "<div>\n",
              "<style scoped>\n",
              "    .dataframe tbody tr th:only-of-type {\n",
              "        vertical-align: middle;\n",
              "    }\n",
              "\n",
              "    .dataframe tbody tr th {\n",
              "        vertical-align: top;\n",
              "    }\n",
              "\n",
              "    .dataframe thead th {\n",
              "        text-align: right;\n",
              "    }\n",
              "</style>\n",
              "<table border=\"1\" class=\"dataframe\">\n",
              "  <thead>\n",
              "    <tr style=\"text-align: right;\">\n",
              "      <th></th>\n",
              "      <th>Institution</th>\n",
              "      <th>Town</th>\n",
              "      <th>Scenic Lookout</th>\n",
              "      <th>Breakfast Spot</th>\n",
              "      <th>Burger Joint</th>\n",
              "      <th>Café</th>\n",
              "      <th>Coffee Shop</th>\n",
              "      <th>Fast Food Restaurant</th>\n",
              "      <th>Pharmacy</th>\n",
              "      <th>Plaza</th>\n",
              "      <th>Portuguese Restaurant</th>\n",
              "    </tr>\n",
              "  </thead>\n",
              "  <tbody>\n",
              "    <tr>\n",
              "      <th>0</th>\n",
              "      <td>University of Pretoria</td>\n",
              "      <td>Pretoria</td>\n",
              "      <td>0</td>\n",
              "      <td>0</td>\n",
              "      <td>0</td>\n",
              "      <td>1</td>\n",
              "      <td>0</td>\n",
              "      <td>0</td>\n",
              "      <td>0</td>\n",
              "      <td>0</td>\n",
              "      <td>0</td>\n",
              "    </tr>\n",
              "    <tr>\n",
              "      <th>1</th>\n",
              "      <td>University of Pretoria</td>\n",
              "      <td>Pretoria</td>\n",
              "      <td>0</td>\n",
              "      <td>0</td>\n",
              "      <td>0</td>\n",
              "      <td>0</td>\n",
              "      <td>1</td>\n",
              "      <td>0</td>\n",
              "      <td>0</td>\n",
              "      <td>0</td>\n",
              "      <td>0</td>\n",
              "    </tr>\n",
              "    <tr>\n",
              "      <th>2</th>\n",
              "      <td>University of Pretoria</td>\n",
              "      <td>Pretoria</td>\n",
              "      <td>0</td>\n",
              "      <td>0</td>\n",
              "      <td>0</td>\n",
              "      <td>0</td>\n",
              "      <td>0</td>\n",
              "      <td>0</td>\n",
              "      <td>0</td>\n",
              "      <td>1</td>\n",
              "      <td>0</td>\n",
              "    </tr>\n",
              "    <tr>\n",
              "      <th>3</th>\n",
              "      <td>University of Pretoria</td>\n",
              "      <td>Pretoria</td>\n",
              "      <td>0</td>\n",
              "      <td>0</td>\n",
              "      <td>1</td>\n",
              "      <td>0</td>\n",
              "      <td>0</td>\n",
              "      <td>0</td>\n",
              "      <td>0</td>\n",
              "      <td>0</td>\n",
              "      <td>0</td>\n",
              "    </tr>\n",
              "    <tr>\n",
              "      <th>4</th>\n",
              "      <td>University of Pretoria</td>\n",
              "      <td>Pretoria</td>\n",
              "      <td>0</td>\n",
              "      <td>0</td>\n",
              "      <td>1</td>\n",
              "      <td>0</td>\n",
              "      <td>0</td>\n",
              "      <td>0</td>\n",
              "      <td>0</td>\n",
              "      <td>0</td>\n",
              "      <td>0</td>\n",
              "    </tr>\n",
              "  </tbody>\n",
              "</table>\n",
              "</div>"
            ],
            "text/plain": [
              "              Institution      Town  Scenic Lookout  Breakfast Spot  \\\n",
              "0  University of Pretoria  Pretoria  0               0                \n",
              "1  University of Pretoria  Pretoria  0               0                \n",
              "2  University of Pretoria  Pretoria  0               0                \n",
              "3  University of Pretoria  Pretoria  0               0                \n",
              "4  University of Pretoria  Pretoria  0               0                \n",
              "\n",
              "   Burger Joint  Café  Coffee Shop  Fast Food Restaurant  Pharmacy  Plaza  \\\n",
              "0  0             1     0            0                     0         0       \n",
              "1  0             0     1            0                     0         0       \n",
              "2  0             0     0            0                     0         1       \n",
              "3  1             0     0            0                     0         0       \n",
              "4  1             0     0            0                     0         0       \n",
              "\n",
              "   Portuguese Restaurant  \n",
              "0  0                      \n",
              "1  0                      \n",
              "2  0                      \n",
              "3  0                      \n",
              "4  0                      "
            ]
          },
          "metadata": {
            "tags": []
          },
          "execution_count": 236
        }
      ]
    },
    {
      "cell_type": "markdown",
      "metadata": {
        "id": "7UnMfw7nUKys"
      },
      "source": [
        "**Group rows by neighborhood and by taking the mean of the frequency of occurrence of each category**"
      ]
    },
    {
      "cell_type": "code",
      "metadata": {
        "colab": {
          "base_uri": "https://localhost:8080/",
          "height": 309
        },
        "id": "VS3Bxoo8TBvN",
        "outputId": "207ae8a1-f800-4533-8479-f5e4217b3a87"
      },
      "source": [
        "gp_grouped = gp_onehot.groupby(['Institution', 'Town']).mean().reset_index()\r\n",
        "\r\n",
        "print(gp_grouped.shape)\r\n",
        "gp_grouped.head()"
      ],
      "execution_count": 237,
      "outputs": [
        {
          "output_type": "stream",
          "text": [
            "(4, 11)\n"
          ],
          "name": "stdout"
        },
        {
          "output_type": "execute_result",
          "data": {
            "text/html": [
              "<div>\n",
              "<style scoped>\n",
              "    .dataframe tbody tr th:only-of-type {\n",
              "        vertical-align: middle;\n",
              "    }\n",
              "\n",
              "    .dataframe tbody tr th {\n",
              "        vertical-align: top;\n",
              "    }\n",
              "\n",
              "    .dataframe thead th {\n",
              "        text-align: right;\n",
              "    }\n",
              "</style>\n",
              "<table border=\"1\" class=\"dataframe\">\n",
              "  <thead>\n",
              "    <tr style=\"text-align: right;\">\n",
              "      <th></th>\n",
              "      <th>Institution</th>\n",
              "      <th>Town</th>\n",
              "      <th>Scenic Lookout</th>\n",
              "      <th>Breakfast Spot</th>\n",
              "      <th>Burger Joint</th>\n",
              "      <th>Café</th>\n",
              "      <th>Coffee Shop</th>\n",
              "      <th>Fast Food Restaurant</th>\n",
              "      <th>Pharmacy</th>\n",
              "      <th>Plaza</th>\n",
              "      <th>Portuguese Restaurant</th>\n",
              "    </tr>\n",
              "  </thead>\n",
              "  <tbody>\n",
              "    <tr>\n",
              "      <th>0</th>\n",
              "      <td>Tshwane University of Technology</td>\n",
              "      <td>Pretoria</td>\n",
              "      <td>0.000000</td>\n",
              "      <td>0.000000</td>\n",
              "      <td>0.300000</td>\n",
              "      <td>0.100000</td>\n",
              "      <td>0.1</td>\n",
              "      <td>0.200000</td>\n",
              "      <td>0.1</td>\n",
              "      <td>0.2</td>\n",
              "      <td>0.000000</td>\n",
              "    </tr>\n",
              "    <tr>\n",
              "      <th>1</th>\n",
              "      <td>University of Johannesburg</td>\n",
              "      <td>Johannesburg</td>\n",
              "      <td>0.166667</td>\n",
              "      <td>0.166667</td>\n",
              "      <td>0.166667</td>\n",
              "      <td>0.166667</td>\n",
              "      <td>0.0</td>\n",
              "      <td>0.166667</td>\n",
              "      <td>0.0</td>\n",
              "      <td>0.0</td>\n",
              "      <td>0.166667</td>\n",
              "    </tr>\n",
              "    <tr>\n",
              "      <th>2</th>\n",
              "      <td>University of Pretoria</td>\n",
              "      <td>Pretoria</td>\n",
              "      <td>0.000000</td>\n",
              "      <td>0.000000</td>\n",
              "      <td>0.300000</td>\n",
              "      <td>0.100000</td>\n",
              "      <td>0.1</td>\n",
              "      <td>0.200000</td>\n",
              "      <td>0.1</td>\n",
              "      <td>0.2</td>\n",
              "      <td>0.000000</td>\n",
              "    </tr>\n",
              "    <tr>\n",
              "      <th>3</th>\n",
              "      <td>University of the Witwatersrand</td>\n",
              "      <td>Johannesburg</td>\n",
              "      <td>0.166667</td>\n",
              "      <td>0.166667</td>\n",
              "      <td>0.166667</td>\n",
              "      <td>0.166667</td>\n",
              "      <td>0.0</td>\n",
              "      <td>0.166667</td>\n",
              "      <td>0.0</td>\n",
              "      <td>0.0</td>\n",
              "      <td>0.166667</td>\n",
              "    </tr>\n",
              "  </tbody>\n",
              "</table>\n",
              "</div>"
            ],
            "text/plain": [
              "                        Institution          Town  Scenic Lookout  \\\n",
              "0  Tshwane University of Technology  Pretoria      0.000000         \n",
              "1  University of Johannesburg        Johannesburg  0.166667         \n",
              "2  University of Pretoria            Pretoria      0.000000         \n",
              "3  University of the Witwatersrand   Johannesburg  0.166667         \n",
              "\n",
              "   Breakfast Spot  Burger Joint      Café  Coffee Shop  Fast Food Restaurant  \\\n",
              "0  0.000000        0.300000      0.100000  0.1          0.200000               \n",
              "1  0.166667        0.166667      0.166667  0.0          0.166667               \n",
              "2  0.000000        0.300000      0.100000  0.1          0.200000               \n",
              "3  0.166667        0.166667      0.166667  0.0          0.166667               \n",
              "\n",
              "   Pharmacy  Plaza  Portuguese Restaurant  \n",
              "0  0.1       0.2    0.000000               \n",
              "1  0.0       0.0    0.166667               \n",
              "2  0.1       0.2    0.000000               \n",
              "3  0.0       0.0    0.166667               "
            ]
          },
          "metadata": {
            "tags": []
          },
          "execution_count": 237
        }
      ]
    },
    {
      "cell_type": "markdown",
      "metadata": {
        "id": "Tu2Vb1fYVC_F"
      },
      "source": [
        "**Create the new dataframe and display the top 5 venues for each Institution**"
      ]
    },
    {
      "cell_type": "code",
      "metadata": {
        "colab": {
          "base_uri": "https://localhost:8080/",
          "height": 275
        },
        "id": "aUNqDNQtTrn8",
        "outputId": "5d0f39a0-0946-4442-e8f4-1f1c1e39c915"
      },
      "source": [
        "num_top_venues = 5\r\n",
        "\r\n",
        "indicators = ['st', 'nd', 'rd']\r\n",
        "\r\n",
        "# create columns according to number of top venues\r\n",
        "areaColumns = ['Institution', 'Town']\r\n",
        "freqColumns = []\r\n",
        "for ind in np.arange(num_top_venues):\r\n",
        "    try:\r\n",
        "        freqColumns.append('{}{} Most Common Venue'.format(ind+1, indicators[ind]))\r\n",
        "    except:\r\n",
        "        freqColumns.append('{}th Most Common Venue'.format(ind+1))\r\n",
        "columns = areaColumns+freqColumns\r\n",
        "\r\n",
        "# create a new dataframe\r\n",
        "gp_venues_sorted = pd.DataFrame(columns=columns)\r\n",
        "gp_venues_sorted['Institution'] = gp_grouped['Institution']\r\n",
        "gp_venues_sorted['Town'] = gp_grouped['Town']\r\n",
        "\r\n",
        "\r\n",
        "for ind in np.arange(gp_grouped.shape[0]):\r\n",
        "    row_categories = gp_grouped.iloc[ind, :].iloc[3:]\r\n",
        "    row_categories_sorted = row_categories.sort_values(ascending=False)\r\n",
        "    gp_venues_sorted.iloc[ind, 2:] = row_categories_sorted.index.values[0:num_top_venues]\r\n",
        "\r\n",
        "# neighborhoods_venues_sorted.sort_values(freqColumns, inplace=True)\r\n",
        "print(gp_venues_sorted.shape)\r\n",
        "gp_venues_sorted.head()"
      ],
      "execution_count": 242,
      "outputs": [
        {
          "output_type": "stream",
          "text": [
            "(4, 7)\n"
          ],
          "name": "stdout"
        },
        {
          "output_type": "execute_result",
          "data": {
            "text/html": [
              "<div>\n",
              "<style scoped>\n",
              "    .dataframe tbody tr th:only-of-type {\n",
              "        vertical-align: middle;\n",
              "    }\n",
              "\n",
              "    .dataframe tbody tr th {\n",
              "        vertical-align: top;\n",
              "    }\n",
              "\n",
              "    .dataframe thead th {\n",
              "        text-align: right;\n",
              "    }\n",
              "</style>\n",
              "<table border=\"1\" class=\"dataframe\">\n",
              "  <thead>\n",
              "    <tr style=\"text-align: right;\">\n",
              "      <th></th>\n",
              "      <th>Institution</th>\n",
              "      <th>Town</th>\n",
              "      <th>1st Most Common Venue</th>\n",
              "      <th>2nd Most Common Venue</th>\n",
              "      <th>3rd Most Common Venue</th>\n",
              "      <th>4th Most Common Venue</th>\n",
              "      <th>5th Most Common Venue</th>\n",
              "    </tr>\n",
              "  </thead>\n",
              "  <tbody>\n",
              "    <tr>\n",
              "      <th>0</th>\n",
              "      <td>Tshwane University of Technology</td>\n",
              "      <td>Pretoria</td>\n",
              "      <td>Burger Joint</td>\n",
              "      <td>Plaza</td>\n",
              "      <td>Fast Food Restaurant</td>\n",
              "      <td>Pharmacy</td>\n",
              "      <td>Coffee Shop</td>\n",
              "    </tr>\n",
              "    <tr>\n",
              "      <th>1</th>\n",
              "      <td>University of Johannesburg</td>\n",
              "      <td>Johannesburg</td>\n",
              "      <td>Portuguese Restaurant</td>\n",
              "      <td>Fast Food Restaurant</td>\n",
              "      <td>Café</td>\n",
              "      <td>Burger Joint</td>\n",
              "      <td>Breakfast Spot</td>\n",
              "    </tr>\n",
              "    <tr>\n",
              "      <th>2</th>\n",
              "      <td>University of Pretoria</td>\n",
              "      <td>Pretoria</td>\n",
              "      <td>Burger Joint</td>\n",
              "      <td>Plaza</td>\n",
              "      <td>Fast Food Restaurant</td>\n",
              "      <td>Pharmacy</td>\n",
              "      <td>Coffee Shop</td>\n",
              "    </tr>\n",
              "    <tr>\n",
              "      <th>3</th>\n",
              "      <td>University of the Witwatersrand</td>\n",
              "      <td>Johannesburg</td>\n",
              "      <td>Portuguese Restaurant</td>\n",
              "      <td>Fast Food Restaurant</td>\n",
              "      <td>Café</td>\n",
              "      <td>Burger Joint</td>\n",
              "      <td>Breakfast Spot</td>\n",
              "    </tr>\n",
              "  </tbody>\n",
              "</table>\n",
              "</div>"
            ],
            "text/plain": [
              "                        Institution          Town  1st Most Common Venue  \\\n",
              "0  Tshwane University of Technology  Pretoria      Burger Joint            \n",
              "1  University of Johannesburg        Johannesburg  Portuguese Restaurant   \n",
              "2  University of Pretoria            Pretoria      Burger Joint            \n",
              "3  University of the Witwatersrand   Johannesburg  Portuguese Restaurant   \n",
              "\n",
              "  2nd Most Common Venue 3rd Most Common Venue 4th Most Common Venue  \\\n",
              "0  Plaza                 Fast Food Restaurant  Pharmacy               \n",
              "1  Fast Food Restaurant  Café                  Burger Joint           \n",
              "2  Plaza                 Fast Food Restaurant  Pharmacy               \n",
              "3  Fast Food Restaurant  Café                  Burger Joint           \n",
              "\n",
              "  5th Most Common Venue  \n",
              "0  Coffee Shop           \n",
              "1  Breakfast Spot        \n",
              "2  Coffee Shop           \n",
              "3  Breakfast Spot        "
            ]
          },
          "metadata": {
            "tags": []
          },
          "execution_count": 242
        }
      ]
    },
    {
      "cell_type": "markdown",
      "metadata": {
        "id": "xNWpCpCFXSjY"
      },
      "source": [
        "**Cluster Neighborhoods.**\r\n",
        "\r\n",
        "Run k-means to cluster the neighborhood into 5 clusters."
      ]
    },
    {
      "cell_type": "code",
      "metadata": {
        "colab": {
          "base_uri": "https://localhost:8080/"
        },
        "id": "lHl1YjFMWMqU",
        "outputId": "51e09036-06b2-4c7f-e5a0-532384676a35"
      },
      "source": [
        "# set number of clusters\r\n",
        "kclusters = 4\r\n",
        "\r\n",
        "gp_grouped_clustering = gp_grouped.drop([\"Institution\", \"Town\"], 1)\r\n",
        "\r\n",
        "# run k-means clustering\r\n",
        "kmeans = KMeans(n_clusters=kclusters, random_state=0).fit(gp_grouped_clustering)\r\n",
        "\r\n",
        "# check cluster labels generated for each row in the dataframe\r\n",
        "kmeans.labels_[0:10]"
      ],
      "execution_count": 244,
      "outputs": [
        {
          "output_type": "execute_result",
          "data": {
            "text/plain": [
              "array([0, 1, 0, 1], dtype=int32)"
            ]
          },
          "metadata": {
            "tags": []
          },
          "execution_count": 244
        }
      ]
    },
    {
      "cell_type": "code",
      "metadata": {
        "colab": {
          "base_uri": "https://localhost:8080/"
        },
        "id": "Y45HmFt3Xt-Z",
        "outputId": "115de363-dc38-4374-f1c9-ed3f16ea71bb"
      },
      "source": [
        "print(gp_grouped.shape)\r\n",
        "print(gp_venues_sorted.shape)\r\n",
        "print(df_gp.shape)\r\n",
        "print(kmeans.labels_.size)"
      ],
      "execution_count": 247,
      "outputs": [
        {
          "output_type": "stream",
          "text": [
            "(4, 11)\n",
            "(4, 7)\n",
            "(4, 4)\n",
            "4\n"
          ],
          "name": "stdout"
        }
      ]
    },
    {
      "cell_type": "code",
      "metadata": {
        "colab": {
          "base_uri": "https://localhost:8080/",
          "height": 309
        },
        "id": "wCrRHqaOX-hO",
        "outputId": "ca09a40f-63a9-492e-ea65-06e538e29b17"
      },
      "source": [
        "# create a new dataframe that includes the cluster as well as the top 5 venues for each neighborhood.\r\n",
        "gp_merged = df_gp.copy()\r\n",
        "# add clustering labels\r\n",
        "gp_merged[\"Cluster Labels\"] = kmeans.labels_\r\n",
        "gp_merged = gp_merged.join(gp_venues_sorted.drop([\"Town\"], 1).set_index(\"Institution\"), on=\"Institution\")\r\n",
        "gp_merged.rename(columns = {'TLatitude':'Latitude', 'TLongitude':'Longitude'}, inplace = True) \r\n",
        "print(gp_merged.shape)\r\n",
        "gp_merged.head() # check the last columns!"
      ],
      "execution_count": 248,
      "outputs": [
        {
          "output_type": "stream",
          "text": [
            "(4, 10)\n"
          ],
          "name": "stdout"
        },
        {
          "output_type": "execute_result",
          "data": {
            "text/html": [
              "<div>\n",
              "<style scoped>\n",
              "    .dataframe tbody tr th:only-of-type {\n",
              "        vertical-align: middle;\n",
              "    }\n",
              "\n",
              "    .dataframe tbody tr th {\n",
              "        vertical-align: top;\n",
              "    }\n",
              "\n",
              "    .dataframe thead th {\n",
              "        text-align: right;\n",
              "    }\n",
              "</style>\n",
              "<table border=\"1\" class=\"dataframe\">\n",
              "  <thead>\n",
              "    <tr style=\"text-align: right;\">\n",
              "      <th></th>\n",
              "      <th>Institution</th>\n",
              "      <th>Town</th>\n",
              "      <th>Latitude</th>\n",
              "      <th>Longitude</th>\n",
              "      <th>Cluster Labels</th>\n",
              "      <th>1st Most Common Venue</th>\n",
              "      <th>2nd Most Common Venue</th>\n",
              "      <th>3rd Most Common Venue</th>\n",
              "      <th>4th Most Common Venue</th>\n",
              "      <th>5th Most Common Venue</th>\n",
              "    </tr>\n",
              "  </thead>\n",
              "  <tbody>\n",
              "    <tr>\n",
              "      <th>16</th>\n",
              "      <td>University of Pretoria</td>\n",
              "      <td>Pretoria</td>\n",
              "      <td>-25.7459</td>\n",
              "      <td>28.1879</td>\n",
              "      <td>0</td>\n",
              "      <td>Burger Joint</td>\n",
              "      <td>Plaza</td>\n",
              "      <td>Fast Food Restaurant</td>\n",
              "      <td>Pharmacy</td>\n",
              "      <td>Coffee Shop</td>\n",
              "    </tr>\n",
              "    <tr>\n",
              "      <th>25</th>\n",
              "      <td>University of the Witwatersrand</td>\n",
              "      <td>Johannesburg</td>\n",
              "      <td>-26.205</td>\n",
              "      <td>28.0497</td>\n",
              "      <td>1</td>\n",
              "      <td>Portuguese Restaurant</td>\n",
              "      <td>Fast Food Restaurant</td>\n",
              "      <td>Café</td>\n",
              "      <td>Burger Joint</td>\n",
              "      <td>Breakfast Spot</td>\n",
              "    </tr>\n",
              "    <tr>\n",
              "      <th>26</th>\n",
              "      <td>University of Johannesburg</td>\n",
              "      <td>Johannesburg</td>\n",
              "      <td>-26.205</td>\n",
              "      <td>28.0497</td>\n",
              "      <td>0</td>\n",
              "      <td>Portuguese Restaurant</td>\n",
              "      <td>Fast Food Restaurant</td>\n",
              "      <td>Café</td>\n",
              "      <td>Burger Joint</td>\n",
              "      <td>Breakfast Spot</td>\n",
              "    </tr>\n",
              "    <tr>\n",
              "      <th>46</th>\n",
              "      <td>Tshwane University of Technology</td>\n",
              "      <td>Pretoria</td>\n",
              "      <td>-25.7459</td>\n",
              "      <td>28.1879</td>\n",
              "      <td>1</td>\n",
              "      <td>Burger Joint</td>\n",
              "      <td>Plaza</td>\n",
              "      <td>Fast Food Restaurant</td>\n",
              "      <td>Pharmacy</td>\n",
              "      <td>Coffee Shop</td>\n",
              "    </tr>\n",
              "  </tbody>\n",
              "</table>\n",
              "</div>"
            ],
            "text/plain": [
              "                         Institution          Town Latitude Longitude  \\\n",
              "16  University of Pretoria            Pretoria     -25.7459  28.1879    \n",
              "25  University of the Witwatersrand   Johannesburg -26.205   28.0497    \n",
              "26  University of Johannesburg        Johannesburg -26.205   28.0497    \n",
              "46  Tshwane University of Technology  Pretoria     -25.7459  28.1879    \n",
              "\n",
              "    Cluster Labels  1st Most Common Venue 2nd Most Common Venue  \\\n",
              "16  0               Burger Joint           Plaza                  \n",
              "25  1               Portuguese Restaurant  Fast Food Restaurant   \n",
              "26  0               Portuguese Restaurant  Fast Food Restaurant   \n",
              "46  1               Burger Joint           Plaza                  \n",
              "\n",
              "   3rd Most Common Venue 4th Most Common Venue 5th Most Common Venue  \n",
              "16  Fast Food Restaurant  Pharmacy              Coffee Shop           \n",
              "25  Café                  Burger Joint          Breakfast Spot        \n",
              "26  Café                  Burger Joint          Breakfast Spot        \n",
              "46  Fast Food Restaurant  Pharmacy              Coffee Shop           "
            ]
          },
          "metadata": {
            "tags": []
          },
          "execution_count": 248
        }
      ]
    },
    {
      "cell_type": "code",
      "metadata": {
        "colab": {
          "base_uri": "https://localhost:8080/",
          "height": 309
        },
        "id": "M6ArGc4xZKwv",
        "outputId": "efa5a6d9-5c6e-43aa-e8cc-8d293fc52e3a"
      },
      "source": [
        "# sort the results by Cluster Labels\r\n",
        "print(gp_merged.shape)\r\n",
        "gp_merged.sort_values([\"Cluster Labels\"], inplace=True)\r\n",
        "gp_merged.head()"
      ],
      "execution_count": 249,
      "outputs": [
        {
          "output_type": "stream",
          "text": [
            "(4, 10)\n"
          ],
          "name": "stdout"
        },
        {
          "output_type": "execute_result",
          "data": {
            "text/html": [
              "<div>\n",
              "<style scoped>\n",
              "    .dataframe tbody tr th:only-of-type {\n",
              "        vertical-align: middle;\n",
              "    }\n",
              "\n",
              "    .dataframe tbody tr th {\n",
              "        vertical-align: top;\n",
              "    }\n",
              "\n",
              "    .dataframe thead th {\n",
              "        text-align: right;\n",
              "    }\n",
              "</style>\n",
              "<table border=\"1\" class=\"dataframe\">\n",
              "  <thead>\n",
              "    <tr style=\"text-align: right;\">\n",
              "      <th></th>\n",
              "      <th>Institution</th>\n",
              "      <th>Town</th>\n",
              "      <th>Latitude</th>\n",
              "      <th>Longitude</th>\n",
              "      <th>Cluster Labels</th>\n",
              "      <th>1st Most Common Venue</th>\n",
              "      <th>2nd Most Common Venue</th>\n",
              "      <th>3rd Most Common Venue</th>\n",
              "      <th>4th Most Common Venue</th>\n",
              "      <th>5th Most Common Venue</th>\n",
              "    </tr>\n",
              "  </thead>\n",
              "  <tbody>\n",
              "    <tr>\n",
              "      <th>16</th>\n",
              "      <td>University of Pretoria</td>\n",
              "      <td>Pretoria</td>\n",
              "      <td>-25.7459</td>\n",
              "      <td>28.1879</td>\n",
              "      <td>0</td>\n",
              "      <td>Burger Joint</td>\n",
              "      <td>Plaza</td>\n",
              "      <td>Fast Food Restaurant</td>\n",
              "      <td>Pharmacy</td>\n",
              "      <td>Coffee Shop</td>\n",
              "    </tr>\n",
              "    <tr>\n",
              "      <th>26</th>\n",
              "      <td>University of Johannesburg</td>\n",
              "      <td>Johannesburg</td>\n",
              "      <td>-26.205</td>\n",
              "      <td>28.0497</td>\n",
              "      <td>0</td>\n",
              "      <td>Portuguese Restaurant</td>\n",
              "      <td>Fast Food Restaurant</td>\n",
              "      <td>Café</td>\n",
              "      <td>Burger Joint</td>\n",
              "      <td>Breakfast Spot</td>\n",
              "    </tr>\n",
              "    <tr>\n",
              "      <th>25</th>\n",
              "      <td>University of the Witwatersrand</td>\n",
              "      <td>Johannesburg</td>\n",
              "      <td>-26.205</td>\n",
              "      <td>28.0497</td>\n",
              "      <td>1</td>\n",
              "      <td>Portuguese Restaurant</td>\n",
              "      <td>Fast Food Restaurant</td>\n",
              "      <td>Café</td>\n",
              "      <td>Burger Joint</td>\n",
              "      <td>Breakfast Spot</td>\n",
              "    </tr>\n",
              "    <tr>\n",
              "      <th>46</th>\n",
              "      <td>Tshwane University of Technology</td>\n",
              "      <td>Pretoria</td>\n",
              "      <td>-25.7459</td>\n",
              "      <td>28.1879</td>\n",
              "      <td>1</td>\n",
              "      <td>Burger Joint</td>\n",
              "      <td>Plaza</td>\n",
              "      <td>Fast Food Restaurant</td>\n",
              "      <td>Pharmacy</td>\n",
              "      <td>Coffee Shop</td>\n",
              "    </tr>\n",
              "  </tbody>\n",
              "</table>\n",
              "</div>"
            ],
            "text/plain": [
              "                         Institution          Town Latitude Longitude  \\\n",
              "16  University of Pretoria            Pretoria     -25.7459  28.1879    \n",
              "26  University of Johannesburg        Johannesburg -26.205   28.0497    \n",
              "25  University of the Witwatersrand   Johannesburg -26.205   28.0497    \n",
              "46  Tshwane University of Technology  Pretoria     -25.7459  28.1879    \n",
              "\n",
              "    Cluster Labels  1st Most Common Venue 2nd Most Common Venue  \\\n",
              "16  0               Burger Joint           Plaza                  \n",
              "26  0               Portuguese Restaurant  Fast Food Restaurant   \n",
              "25  1               Portuguese Restaurant  Fast Food Restaurant   \n",
              "46  1               Burger Joint           Plaza                  \n",
              "\n",
              "   3rd Most Common Venue 4th Most Common Venue 5th Most Common Venue  \n",
              "16  Fast Food Restaurant  Pharmacy              Coffee Shop           \n",
              "26  Café                  Burger Joint          Breakfast Spot        \n",
              "25  Café                  Burger Joint          Breakfast Spot        \n",
              "46  Fast Food Restaurant  Pharmacy              Coffee Shop           "
            ]
          },
          "metadata": {
            "tags": []
          },
          "execution_count": 249
        }
      ]
    },
    {
      "cell_type": "markdown",
      "metadata": {
        "id": "DurzNqLEZmzt"
      },
      "source": [
        "**Plotting the final neighborhood of Toronto Map**"
      ]
    },
    {
      "cell_type": "code",
      "metadata": {
        "colab": {
          "base_uri": "https://localhost:8080/",
          "height": 563
        },
        "id": "7RW3G-zUZa3O",
        "outputId": "9b0e7a79-88e8-4ad6-acb6-36c588ea510a"
      },
      "source": [
        "map_clusters  = folium.Map(location=[latitude, longitude], zoom_start=12)\r\n",
        "# set color scheme for the clusters\r\n",
        "x = np.arange(kclusters)\r\n",
        "rainbow = ['red',    \r\n",
        "           'blue',    \r\n",
        "           'orange',    \r\n",
        "           'darkgreen',    \r\n",
        "           'darkblue',    \r\n",
        "           'black']\r\n",
        "# add markers to map\r\n",
        "markers_colors = []\r\n",
        "for lat, lon, inst, tow, cluster in zip(gp_merged['Latitude'], gp_merged['Longitude'], gp_merged['Institution'], gp_merged['Town'], gp_merged['Cluster Labels']):\r\n",
        "    label = folium.Popup('{} ({}): Cluster {}'.format(tow, inst, cluster), parse_html=True)\r\n",
        "    folium.CircleMarker(\r\n",
        "        [lat, lon],\r\n",
        "        radius=5,\r\n",
        "        popup=label,\r\n",
        "        color=rainbow[cluster-1],\r\n",
        "        fill=True,\r\n",
        "        fill_color=rainbow[cluster-1],\r\n",
        "        fill_opacity=0.7).add_to(map_clusters)\r\n",
        "       \r\n",
        "map_clusters"
      ],
      "execution_count": 252,
      "outputs": [
        {
          "output_type": "execute_result",
          "data": {
            "text/html": [
              "<div style=\"width:100%;\"><div style=\"position:relative;width:100%;height:0;padding-bottom:60%;\"><span style=\"color:#565656\">Make this Notebook Trusted to load map: File -> Trust Notebook</span><iframe src=\"about:blank\" style=\"position:absolute;width:100%;height:100%;left:0;top:0;border:none !important;\" data-html=%3C%21DOCTYPE%20html%3E%0A%3Chead%3E%20%20%20%20%0A%20%20%20%20%3Cmeta%20http-equiv%3D%22content-type%22%20content%3D%22text/html%3B%20charset%3DUTF-8%22%20/%3E%0A%20%20%20%20%3Cscript%3EL_PREFER_CANVAS%3Dfalse%3B%20L_NO_TOUCH%3Dfalse%3B%20L_DISABLE_3D%3Dfalse%3B%3C/script%3E%0A%20%20%20%20%3Cscript%20src%3D%22https%3A//cdn.jsdelivr.net/npm/leaflet%401.4.0/dist/leaflet.js%22%3E%3C/script%3E%0A%20%20%20%20%3Cscript%20src%3D%22https%3A//code.jquery.com/jquery-1.12.4.min.js%22%3E%3C/script%3E%0A%20%20%20%20%3Cscript%20src%3D%22https%3A//maxcdn.bootstrapcdn.com/bootstrap/3.2.0/js/bootstrap.min.js%22%3E%3C/script%3E%0A%20%20%20%20%3Cscript%20src%3D%22https%3A//cdnjs.cloudflare.com/ajax/libs/Leaflet.awesome-markers/2.0.2/leaflet.awesome-markers.js%22%3E%3C/script%3E%0A%20%20%20%20%3Clink%20rel%3D%22stylesheet%22%20href%3D%22https%3A//cdn.jsdelivr.net/npm/leaflet%401.4.0/dist/leaflet.css%22/%3E%0A%20%20%20%20%3Clink%20rel%3D%22stylesheet%22%20href%3D%22https%3A//maxcdn.bootstrapcdn.com/bootstrap/3.2.0/css/bootstrap.min.css%22/%3E%0A%20%20%20%20%3Clink%20rel%3D%22stylesheet%22%20href%3D%22https%3A//maxcdn.bootstrapcdn.com/bootstrap/3.2.0/css/bootstrap-theme.min.css%22/%3E%0A%20%20%20%20%3Clink%20rel%3D%22stylesheet%22%20href%3D%22https%3A//maxcdn.bootstrapcdn.com/font-awesome/4.6.3/css/font-awesome.min.css%22/%3E%0A%20%20%20%20%3Clink%20rel%3D%22stylesheet%22%20href%3D%22https%3A//cdnjs.cloudflare.com/ajax/libs/Leaflet.awesome-markers/2.0.2/leaflet.awesome-markers.css%22/%3E%0A%20%20%20%20%3Clink%20rel%3D%22stylesheet%22%20href%3D%22https%3A//rawcdn.githack.com/python-visualization/folium/master/folium/templates/leaflet.awesome.rotate.css%22/%3E%0A%20%20%20%20%3Cstyle%3Ehtml%2C%20body%20%7Bwidth%3A%20100%25%3Bheight%3A%20100%25%3Bmargin%3A%200%3Bpadding%3A%200%3B%7D%3C/style%3E%0A%20%20%20%20%3Cstyle%3E%23map%20%7Bposition%3Aabsolute%3Btop%3A0%3Bbottom%3A0%3Bright%3A0%3Bleft%3A0%3B%7D%3C/style%3E%0A%20%20%20%20%0A%20%20%20%20%3Cmeta%20name%3D%22viewport%22%20content%3D%22width%3Ddevice-width%2C%0A%20%20%20%20%20%20%20%20initial-scale%3D1.0%2C%20maximum-scale%3D1.0%2C%20user-scalable%3Dno%22%20/%3E%0A%20%20%20%20%3Cstyle%3E%23map_23784e2a7d0e4b87b74fd39787348f96%20%7B%0A%20%20%20%20%20%20%20%20position%3A%20relative%3B%0A%20%20%20%20%20%20%20%20width%3A%20100.0%25%3B%0A%20%20%20%20%20%20%20%20height%3A%20100.0%25%3B%0A%20%20%20%20%20%20%20%20left%3A%200.0%25%3B%0A%20%20%20%20%20%20%20%20top%3A%200.0%25%3B%0A%20%20%20%20%20%20%20%20%7D%0A%20%20%20%20%3C/style%3E%0A%3C/head%3E%0A%3Cbody%3E%20%20%20%20%0A%20%20%20%20%0A%20%20%20%20%3Cdiv%20class%3D%22folium-map%22%20id%3D%22map_23784e2a7d0e4b87b74fd39787348f96%22%20%3E%3C/div%3E%0A%3C/body%3E%0A%3Cscript%3E%20%20%20%20%0A%20%20%20%20%0A%20%20%20%20%0A%20%20%20%20%20%20%20%20var%20bounds%20%3D%20null%3B%0A%20%20%20%20%0A%0A%20%20%20%20var%20map_23784e2a7d0e4b87b74fd39787348f96%20%3D%20L.map%28%0A%20%20%20%20%20%20%20%20%27map_23784e2a7d0e4b87b74fd39787348f96%27%2C%20%7B%0A%20%20%20%20%20%20%20%20center%3A%20%5B-28.456325%2C%2021.241867%5D%2C%0A%20%20%20%20%20%20%20%20zoom%3A%2012%2C%0A%20%20%20%20%20%20%20%20maxBounds%3A%20bounds%2C%0A%20%20%20%20%20%20%20%20layers%3A%20%5B%5D%2C%0A%20%20%20%20%20%20%20%20worldCopyJump%3A%20false%2C%0A%20%20%20%20%20%20%20%20crs%3A%20L.CRS.EPSG3857%2C%0A%20%20%20%20%20%20%20%20zoomControl%3A%20true%2C%0A%20%20%20%20%20%20%20%20%7D%29%3B%0A%0A%0A%20%20%20%20%0A%20%20%20%20var%20tile_layer_cd93716cef524c8d913ffc5a33391662%20%3D%20L.tileLayer%28%0A%20%20%20%20%20%20%20%20%27https%3A//%7Bs%7D.tile.openstreetmap.org/%7Bz%7D/%7Bx%7D/%7By%7D.png%27%2C%0A%20%20%20%20%20%20%20%20%7B%0A%20%20%20%20%20%20%20%20%22attribution%22%3A%20null%2C%0A%20%20%20%20%20%20%20%20%22detectRetina%22%3A%20false%2C%0A%20%20%20%20%20%20%20%20%22maxNativeZoom%22%3A%2018%2C%0A%20%20%20%20%20%20%20%20%22maxZoom%22%3A%2018%2C%0A%20%20%20%20%20%20%20%20%22minZoom%22%3A%200%2C%0A%20%20%20%20%20%20%20%20%22noWrap%22%3A%20false%2C%0A%20%20%20%20%20%20%20%20%22opacity%22%3A%201%2C%0A%20%20%20%20%20%20%20%20%22subdomains%22%3A%20%22abc%22%2C%0A%20%20%20%20%20%20%20%20%22tms%22%3A%20false%0A%7D%29.addTo%28map_23784e2a7d0e4b87b74fd39787348f96%29%3B%0A%20%20%20%20%0A%20%20%20%20%20%20%20%20%20%20%20%20var%20circle_marker_c40e05e3eb78485c965b47349379803a%20%3D%20L.circleMarker%28%0A%20%20%20%20%20%20%20%20%20%20%20%20%20%20%20%20%5B-25.7459374%2C%2028.1879444%5D%2C%0A%20%20%20%20%20%20%20%20%20%20%20%20%20%20%20%20%7B%0A%20%20%22bubblingMouseEvents%22%3A%20true%2C%0A%20%20%22color%22%3A%20%22black%22%2C%0A%20%20%22dashArray%22%3A%20null%2C%0A%20%20%22dashOffset%22%3A%20null%2C%0A%20%20%22fill%22%3A%20true%2C%0A%20%20%22fillColor%22%3A%20%22black%22%2C%0A%20%20%22fillOpacity%22%3A%200.7%2C%0A%20%20%22fillRule%22%3A%20%22evenodd%22%2C%0A%20%20%22lineCap%22%3A%20%22round%22%2C%0A%20%20%22lineJoin%22%3A%20%22round%22%2C%0A%20%20%22opacity%22%3A%201.0%2C%0A%20%20%22radius%22%3A%205%2C%0A%20%20%22stroke%22%3A%20true%2C%0A%20%20%22weight%22%3A%203%0A%7D%0A%20%20%20%20%20%20%20%20%20%20%20%20%20%20%20%20%29%0A%20%20%20%20%20%20%20%20%20%20%20%20%20%20%20%20.addTo%28map_23784e2a7d0e4b87b74fd39787348f96%29%3B%0A%20%20%20%20%20%20%20%20%20%20%20%20%0A%20%20%20%20%0A%20%20%20%20%20%20%20%20%20%20%20%20var%20popup_1c238592b50140c3b64e95e4150ff838%20%3D%20L.popup%28%7BmaxWidth%3A%20%27100%25%27%0A%20%20%20%20%20%20%20%20%20%20%20%20%0A%20%20%20%20%20%20%20%20%20%20%20%20%7D%29%3B%0A%0A%20%20%20%20%20%20%20%20%20%20%20%20%0A%20%20%20%20%20%20%20%20%20%20%20%20%20%20%20%20var%20html_6d0153719fa14ec9b8390d2c3c2ad14d%20%3D%20%24%28%60%3Cdiv%20id%3D%22html_6d0153719fa14ec9b8390d2c3c2ad14d%22%20style%3D%22width%3A%20100.0%25%3B%20height%3A%20100.0%25%3B%22%3EPretoria%20%28University%20of%20Pretoria%29%3A%20Cluster%200%3C/div%3E%60%29%5B0%5D%3B%0A%20%20%20%20%20%20%20%20%20%20%20%20%20%20%20%20popup_1c238592b50140c3b64e95e4150ff838.setContent%28html_6d0153719fa14ec9b8390d2c3c2ad14d%29%3B%0A%20%20%20%20%20%20%20%20%20%20%20%20%0A%0A%20%20%20%20%20%20%20%20%20%20%20%20circle_marker_c40e05e3eb78485c965b47349379803a.bindPopup%28popup_1c238592b50140c3b64e95e4150ff838%29%0A%20%20%20%20%20%20%20%20%20%20%20%20%3B%0A%0A%20%20%20%20%20%20%20%20%20%20%20%20%0A%20%20%20%20%20%20%20%20%0A%20%20%20%20%0A%20%20%20%20%20%20%20%20%20%20%20%20var%20circle_marker_df0e17f3a9284afc86520bb1da9707e4%20%3D%20L.circleMarker%28%0A%20%20%20%20%20%20%20%20%20%20%20%20%20%20%20%20%5B-26.205%2C%2028.049722%5D%2C%0A%20%20%20%20%20%20%20%20%20%20%20%20%20%20%20%20%7B%0A%20%20%22bubblingMouseEvents%22%3A%20true%2C%0A%20%20%22color%22%3A%20%22black%22%2C%0A%20%20%22dashArray%22%3A%20null%2C%0A%20%20%22dashOffset%22%3A%20null%2C%0A%20%20%22fill%22%3A%20true%2C%0A%20%20%22fillColor%22%3A%20%22black%22%2C%0A%20%20%22fillOpacity%22%3A%200.7%2C%0A%20%20%22fillRule%22%3A%20%22evenodd%22%2C%0A%20%20%22lineCap%22%3A%20%22round%22%2C%0A%20%20%22lineJoin%22%3A%20%22round%22%2C%0A%20%20%22opacity%22%3A%201.0%2C%0A%20%20%22radius%22%3A%205%2C%0A%20%20%22stroke%22%3A%20true%2C%0A%20%20%22weight%22%3A%203%0A%7D%0A%20%20%20%20%20%20%20%20%20%20%20%20%20%20%20%20%29%0A%20%20%20%20%20%20%20%20%20%20%20%20%20%20%20%20.addTo%28map_23784e2a7d0e4b87b74fd39787348f96%29%3B%0A%20%20%20%20%20%20%20%20%20%20%20%20%0A%20%20%20%20%0A%20%20%20%20%20%20%20%20%20%20%20%20var%20popup_26ffc285f9894844965164c8f2792a01%20%3D%20L.popup%28%7BmaxWidth%3A%20%27100%25%27%0A%20%20%20%20%20%20%20%20%20%20%20%20%0A%20%20%20%20%20%20%20%20%20%20%20%20%7D%29%3B%0A%0A%20%20%20%20%20%20%20%20%20%20%20%20%0A%20%20%20%20%20%20%20%20%20%20%20%20%20%20%20%20var%20html_1a6e39cc93ad4fdfa13ef0140408df31%20%3D%20%24%28%60%3Cdiv%20id%3D%22html_1a6e39cc93ad4fdfa13ef0140408df31%22%20style%3D%22width%3A%20100.0%25%3B%20height%3A%20100.0%25%3B%22%3EJohannesburg%20%28University%20of%20Johannesburg%29%3A%20Cluster%200%3C/div%3E%60%29%5B0%5D%3B%0A%20%20%20%20%20%20%20%20%20%20%20%20%20%20%20%20popup_26ffc285f9894844965164c8f2792a01.setContent%28html_1a6e39cc93ad4fdfa13ef0140408df31%29%3B%0A%20%20%20%20%20%20%20%20%20%20%20%20%0A%0A%20%20%20%20%20%20%20%20%20%20%20%20circle_marker_df0e17f3a9284afc86520bb1da9707e4.bindPopup%28popup_26ffc285f9894844965164c8f2792a01%29%0A%20%20%20%20%20%20%20%20%20%20%20%20%3B%0A%0A%20%20%20%20%20%20%20%20%20%20%20%20%0A%20%20%20%20%20%20%20%20%0A%20%20%20%20%0A%20%20%20%20%20%20%20%20%20%20%20%20var%20circle_marker_4a0f92fca1694a39ade4d694656ad2e7%20%3D%20L.circleMarker%28%0A%20%20%20%20%20%20%20%20%20%20%20%20%20%20%20%20%5B-26.205%2C%2028.049722%5D%2C%0A%20%20%20%20%20%20%20%20%20%20%20%20%20%20%20%20%7B%0A%20%20%22bubblingMouseEvents%22%3A%20true%2C%0A%20%20%22color%22%3A%20%22red%22%2C%0A%20%20%22dashArray%22%3A%20null%2C%0A%20%20%22dashOffset%22%3A%20null%2C%0A%20%20%22fill%22%3A%20true%2C%0A%20%20%22fillColor%22%3A%20%22red%22%2C%0A%20%20%22fillOpacity%22%3A%200.7%2C%0A%20%20%22fillRule%22%3A%20%22evenodd%22%2C%0A%20%20%22lineCap%22%3A%20%22round%22%2C%0A%20%20%22lineJoin%22%3A%20%22round%22%2C%0A%20%20%22opacity%22%3A%201.0%2C%0A%20%20%22radius%22%3A%205%2C%0A%20%20%22stroke%22%3A%20true%2C%0A%20%20%22weight%22%3A%203%0A%7D%0A%20%20%20%20%20%20%20%20%20%20%20%20%20%20%20%20%29%0A%20%20%20%20%20%20%20%20%20%20%20%20%20%20%20%20.addTo%28map_23784e2a7d0e4b87b74fd39787348f96%29%3B%0A%20%20%20%20%20%20%20%20%20%20%20%20%0A%20%20%20%20%0A%20%20%20%20%20%20%20%20%20%20%20%20var%20popup_4632a1a0675f4eb1a9fafcdd7cf54761%20%3D%20L.popup%28%7BmaxWidth%3A%20%27100%25%27%0A%20%20%20%20%20%20%20%20%20%20%20%20%0A%20%20%20%20%20%20%20%20%20%20%20%20%7D%29%3B%0A%0A%20%20%20%20%20%20%20%20%20%20%20%20%0A%20%20%20%20%20%20%20%20%20%20%20%20%20%20%20%20var%20html_873b1aa097ed4ff9895e52ab02aee871%20%3D%20%24%28%60%3Cdiv%20id%3D%22html_873b1aa097ed4ff9895e52ab02aee871%22%20style%3D%22width%3A%20100.0%25%3B%20height%3A%20100.0%25%3B%22%3EJohannesburg%20%28University%20of%20the%20Witwatersrand%29%3A%20Cluster%201%3C/div%3E%60%29%5B0%5D%3B%0A%20%20%20%20%20%20%20%20%20%20%20%20%20%20%20%20popup_4632a1a0675f4eb1a9fafcdd7cf54761.setContent%28html_873b1aa097ed4ff9895e52ab02aee871%29%3B%0A%20%20%20%20%20%20%20%20%20%20%20%20%0A%0A%20%20%20%20%20%20%20%20%20%20%20%20circle_marker_4a0f92fca1694a39ade4d694656ad2e7.bindPopup%28popup_4632a1a0675f4eb1a9fafcdd7cf54761%29%0A%20%20%20%20%20%20%20%20%20%20%20%20%3B%0A%0A%20%20%20%20%20%20%20%20%20%20%20%20%0A%20%20%20%20%20%20%20%20%0A%20%20%20%20%0A%20%20%20%20%20%20%20%20%20%20%20%20var%20circle_marker_ad6854485b114ce99da299075f85f8e1%20%3D%20L.circleMarker%28%0A%20%20%20%20%20%20%20%20%20%20%20%20%20%20%20%20%5B-25.7459374%2C%2028.1879444%5D%2C%0A%20%20%20%20%20%20%20%20%20%20%20%20%20%20%20%20%7B%0A%20%20%22bubblingMouseEvents%22%3A%20true%2C%0A%20%20%22color%22%3A%20%22red%22%2C%0A%20%20%22dashArray%22%3A%20null%2C%0A%20%20%22dashOffset%22%3A%20null%2C%0A%20%20%22fill%22%3A%20true%2C%0A%20%20%22fillColor%22%3A%20%22red%22%2C%0A%20%20%22fillOpacity%22%3A%200.7%2C%0A%20%20%22fillRule%22%3A%20%22evenodd%22%2C%0A%20%20%22lineCap%22%3A%20%22round%22%2C%0A%20%20%22lineJoin%22%3A%20%22round%22%2C%0A%20%20%22opacity%22%3A%201.0%2C%0A%20%20%22radius%22%3A%205%2C%0A%20%20%22stroke%22%3A%20true%2C%0A%20%20%22weight%22%3A%203%0A%7D%0A%20%20%20%20%20%20%20%20%20%20%20%20%20%20%20%20%29%0A%20%20%20%20%20%20%20%20%20%20%20%20%20%20%20%20.addTo%28map_23784e2a7d0e4b87b74fd39787348f96%29%3B%0A%20%20%20%20%20%20%20%20%20%20%20%20%0A%20%20%20%20%0A%20%20%20%20%20%20%20%20%20%20%20%20var%20popup_9da74a5b539d4efa8301c3494d5ada45%20%3D%20L.popup%28%7BmaxWidth%3A%20%27100%25%27%0A%20%20%20%20%20%20%20%20%20%20%20%20%0A%20%20%20%20%20%20%20%20%20%20%20%20%7D%29%3B%0A%0A%20%20%20%20%20%20%20%20%20%20%20%20%0A%20%20%20%20%20%20%20%20%20%20%20%20%20%20%20%20var%20html_b4faac169460439b9a7ac2b27555c913%20%3D%20%24%28%60%3Cdiv%20id%3D%22html_b4faac169460439b9a7ac2b27555c913%22%20style%3D%22width%3A%20100.0%25%3B%20height%3A%20100.0%25%3B%22%3EPretoria%20%28Tshwane%20University%20of%20Technology%29%3A%20Cluster%201%3C/div%3E%60%29%5B0%5D%3B%0A%20%20%20%20%20%20%20%20%20%20%20%20%20%20%20%20popup_9da74a5b539d4efa8301c3494d5ada45.setContent%28html_b4faac169460439b9a7ac2b27555c913%29%3B%0A%20%20%20%20%20%20%20%20%20%20%20%20%0A%0A%20%20%20%20%20%20%20%20%20%20%20%20circle_marker_ad6854485b114ce99da299075f85f8e1.bindPopup%28popup_9da74a5b539d4efa8301c3494d5ada45%29%0A%20%20%20%20%20%20%20%20%20%20%20%20%3B%0A%0A%20%20%20%20%20%20%20%20%20%20%20%20%0A%20%20%20%20%20%20%20%20%0A%3C/script%3E onload=\"this.contentDocument.open();this.contentDocument.write(    decodeURIComponent(this.getAttribute('data-html')));this.contentDocument.close();\" allowfullscreen webkitallowfullscreen mozallowfullscreen></iframe></div></div>"
            ],
            "text/plain": [
              "<folium.folium.Map at 0x7f8edcc95a58>"
            ]
          },
          "metadata": {
            "tags": []
          },
          "execution_count": 252
        }
      ]
    },
    {
      "cell_type": "code",
      "metadata": {
        "id": "l41FMGeGaqZf"
      },
      "source": [
        ""
      ],
      "execution_count": null,
      "outputs": []
    },
    {
      "cell_type": "markdown",
      "metadata": {
        "id": "6MvAmDNJbU-6"
      },
      "source": [
        "**Examine Clusters**"
      ]
    },
    {
      "cell_type": "code",
      "metadata": {
        "colab": {
          "base_uri": "https://localhost:8080/",
          "height": 145
        },
        "id": "zjYBpf-xbXca",
        "outputId": "8a3a4406-746d-4b6d-a1f7-1f9a23bfd49c"
      },
      "source": [
        "#Cluster 0\r\n",
        "gp_merged.loc[gp_merged['Cluster Labels'] == 0, gp_merged.columns[[1] + list(range(5, gp_merged.shape[1]))]]"
      ],
      "execution_count": 253,
      "outputs": [
        {
          "output_type": "execute_result",
          "data": {
            "text/html": [
              "<div>\n",
              "<style scoped>\n",
              "    .dataframe tbody tr th:only-of-type {\n",
              "        vertical-align: middle;\n",
              "    }\n",
              "\n",
              "    .dataframe tbody tr th {\n",
              "        vertical-align: top;\n",
              "    }\n",
              "\n",
              "    .dataframe thead th {\n",
              "        text-align: right;\n",
              "    }\n",
              "</style>\n",
              "<table border=\"1\" class=\"dataframe\">\n",
              "  <thead>\n",
              "    <tr style=\"text-align: right;\">\n",
              "      <th></th>\n",
              "      <th>Town</th>\n",
              "      <th>1st Most Common Venue</th>\n",
              "      <th>2nd Most Common Venue</th>\n",
              "      <th>3rd Most Common Venue</th>\n",
              "      <th>4th Most Common Venue</th>\n",
              "      <th>5th Most Common Venue</th>\n",
              "    </tr>\n",
              "  </thead>\n",
              "  <tbody>\n",
              "    <tr>\n",
              "      <th>16</th>\n",
              "      <td>Pretoria</td>\n",
              "      <td>Burger Joint</td>\n",
              "      <td>Plaza</td>\n",
              "      <td>Fast Food Restaurant</td>\n",
              "      <td>Pharmacy</td>\n",
              "      <td>Coffee Shop</td>\n",
              "    </tr>\n",
              "    <tr>\n",
              "      <th>26</th>\n",
              "      <td>Johannesburg</td>\n",
              "      <td>Portuguese Restaurant</td>\n",
              "      <td>Fast Food Restaurant</td>\n",
              "      <td>Café</td>\n",
              "      <td>Burger Joint</td>\n",
              "      <td>Breakfast Spot</td>\n",
              "    </tr>\n",
              "  </tbody>\n",
              "</table>\n",
              "</div>"
            ],
            "text/plain": [
              "            Town  1st Most Common Venue 2nd Most Common Venue  \\\n",
              "16  Pretoria      Burger Joint           Plaza                  \n",
              "26  Johannesburg  Portuguese Restaurant  Fast Food Restaurant   \n",
              "\n",
              "   3rd Most Common Venue 4th Most Common Venue 5th Most Common Venue  \n",
              "16  Fast Food Restaurant  Pharmacy              Coffee Shop           \n",
              "26  Café                  Burger Joint          Breakfast Spot        "
            ]
          },
          "metadata": {
            "tags": []
          },
          "execution_count": 253
        }
      ]
    },
    {
      "cell_type": "code",
      "metadata": {
        "colab": {
          "base_uri": "https://localhost:8080/",
          "height": 145
        },
        "id": "TgljPrB_bjms",
        "outputId": "911f7eb3-b87b-4b63-8fa3-f1cb36cc370f"
      },
      "source": [
        "#Cluster 1\r\n",
        "gp_merged.loc[gp_merged['Cluster Labels'] == 1, gp_merged.columns[[1] + list(range(5, gp_merged.shape[1]))]]"
      ],
      "execution_count": 254,
      "outputs": [
        {
          "output_type": "execute_result",
          "data": {
            "text/html": [
              "<div>\n",
              "<style scoped>\n",
              "    .dataframe tbody tr th:only-of-type {\n",
              "        vertical-align: middle;\n",
              "    }\n",
              "\n",
              "    .dataframe tbody tr th {\n",
              "        vertical-align: top;\n",
              "    }\n",
              "\n",
              "    .dataframe thead th {\n",
              "        text-align: right;\n",
              "    }\n",
              "</style>\n",
              "<table border=\"1\" class=\"dataframe\">\n",
              "  <thead>\n",
              "    <tr style=\"text-align: right;\">\n",
              "      <th></th>\n",
              "      <th>Town</th>\n",
              "      <th>1st Most Common Venue</th>\n",
              "      <th>2nd Most Common Venue</th>\n",
              "      <th>3rd Most Common Venue</th>\n",
              "      <th>4th Most Common Venue</th>\n",
              "      <th>5th Most Common Venue</th>\n",
              "    </tr>\n",
              "  </thead>\n",
              "  <tbody>\n",
              "    <tr>\n",
              "      <th>25</th>\n",
              "      <td>Johannesburg</td>\n",
              "      <td>Portuguese Restaurant</td>\n",
              "      <td>Fast Food Restaurant</td>\n",
              "      <td>Café</td>\n",
              "      <td>Burger Joint</td>\n",
              "      <td>Breakfast Spot</td>\n",
              "    </tr>\n",
              "    <tr>\n",
              "      <th>46</th>\n",
              "      <td>Pretoria</td>\n",
              "      <td>Burger Joint</td>\n",
              "      <td>Plaza</td>\n",
              "      <td>Fast Food Restaurant</td>\n",
              "      <td>Pharmacy</td>\n",
              "      <td>Coffee Shop</td>\n",
              "    </tr>\n",
              "  </tbody>\n",
              "</table>\n",
              "</div>"
            ],
            "text/plain": [
              "            Town  1st Most Common Venue 2nd Most Common Venue  \\\n",
              "25  Johannesburg  Portuguese Restaurant  Fast Food Restaurant   \n",
              "46  Pretoria      Burger Joint           Plaza                  \n",
              "\n",
              "   3rd Most Common Venue 4th Most Common Venue 5th Most Common Venue  \n",
              "25  Café                  Burger Joint          Breakfast Spot        \n",
              "46  Fast Food Restaurant  Pharmacy              Coffee Shop           "
            ]
          },
          "metadata": {
            "tags": []
          },
          "execution_count": 254
        }
      ]
    },
    {
      "cell_type": "code",
      "metadata": {
        "colab": {
          "base_uri": "https://localhost:8080/",
          "height": 66
        },
        "id": "1yoshYsObrjQ",
        "outputId": "e0d03c1a-5c7a-45c2-b9a5-7010790696f8"
      },
      "source": [
        "#Cluster 2\r\n",
        "gp_merged.loc[gp_merged['Cluster Labels'] == 2, gp_merged.columns[[1] + list(range(5, gp_merged.shape[1]))]]"
      ],
      "execution_count": 255,
      "outputs": [
        {
          "output_type": "execute_result",
          "data": {
            "text/html": [
              "<div>\n",
              "<style scoped>\n",
              "    .dataframe tbody tr th:only-of-type {\n",
              "        vertical-align: middle;\n",
              "    }\n",
              "\n",
              "    .dataframe tbody tr th {\n",
              "        vertical-align: top;\n",
              "    }\n",
              "\n",
              "    .dataframe thead th {\n",
              "        text-align: right;\n",
              "    }\n",
              "</style>\n",
              "<table border=\"1\" class=\"dataframe\">\n",
              "  <thead>\n",
              "    <tr style=\"text-align: right;\">\n",
              "      <th></th>\n",
              "      <th>Town</th>\n",
              "      <th>1st Most Common Venue</th>\n",
              "      <th>2nd Most Common Venue</th>\n",
              "      <th>3rd Most Common Venue</th>\n",
              "      <th>4th Most Common Venue</th>\n",
              "      <th>5th Most Common Venue</th>\n",
              "    </tr>\n",
              "  </thead>\n",
              "  <tbody>\n",
              "  </tbody>\n",
              "</table>\n",
              "</div>"
            ],
            "text/plain": [
              "Empty DataFrame\n",
              "Columns: [Town, 1st Most Common Venue, 2nd Most Common Venue, 3rd Most Common Venue, 4th Most Common Venue, 5th Most Common Venue]\n",
              "Index: []"
            ]
          },
          "metadata": {
            "tags": []
          },
          "execution_count": 255
        }
      ]
    },
    {
      "cell_type": "code",
      "metadata": {
        "colab": {
          "base_uri": "https://localhost:8080/",
          "height": 66
        },
        "id": "dTWTS4BGbv7H",
        "outputId": "d9929973-4431-40a7-c22a-004d14f84fdc"
      },
      "source": [
        "#Cluster 3\r\n",
        "gp_merged.loc[gp_merged['Cluster Labels'] == 3, gp_merged.columns[[1] + list(range(5, gp_merged.shape[1]))]]"
      ],
      "execution_count": 256,
      "outputs": [
        {
          "output_type": "execute_result",
          "data": {
            "text/html": [
              "<div>\n",
              "<style scoped>\n",
              "    .dataframe tbody tr th:only-of-type {\n",
              "        vertical-align: middle;\n",
              "    }\n",
              "\n",
              "    .dataframe tbody tr th {\n",
              "        vertical-align: top;\n",
              "    }\n",
              "\n",
              "    .dataframe thead th {\n",
              "        text-align: right;\n",
              "    }\n",
              "</style>\n",
              "<table border=\"1\" class=\"dataframe\">\n",
              "  <thead>\n",
              "    <tr style=\"text-align: right;\">\n",
              "      <th></th>\n",
              "      <th>Town</th>\n",
              "      <th>1st Most Common Venue</th>\n",
              "      <th>2nd Most Common Venue</th>\n",
              "      <th>3rd Most Common Venue</th>\n",
              "      <th>4th Most Common Venue</th>\n",
              "      <th>5th Most Common Venue</th>\n",
              "    </tr>\n",
              "  </thead>\n",
              "  <tbody>\n",
              "  </tbody>\n",
              "</table>\n",
              "</div>"
            ],
            "text/plain": [
              "Empty DataFrame\n",
              "Columns: [Town, 1st Most Common Venue, 2nd Most Common Venue, 3rd Most Common Venue, 4th Most Common Venue, 5th Most Common Venue]\n",
              "Index: []"
            ]
          },
          "metadata": {
            "tags": []
          },
          "execution_count": 256
        }
      ]
    },
    {
      "cell_type": "code",
      "metadata": {
        "colab": {
          "base_uri": "https://localhost:8080/",
          "height": 66
        },
        "id": "F1QLhaJMby9Z",
        "outputId": "ab48e8bc-281a-4533-fa77-8fb8da35ff18"
      },
      "source": [
        "#Cluster 4\r\n",
        "gp_merged.loc[gp_merged['Cluster Labels'] == 4, gp_merged.columns[[1] + list(range(5, gp_merged.shape[1]))]]"
      ],
      "execution_count": 257,
      "outputs": [
        {
          "output_type": "execute_result",
          "data": {
            "text/html": [
              "<div>\n",
              "<style scoped>\n",
              "    .dataframe tbody tr th:only-of-type {\n",
              "        vertical-align: middle;\n",
              "    }\n",
              "\n",
              "    .dataframe tbody tr th {\n",
              "        vertical-align: top;\n",
              "    }\n",
              "\n",
              "    .dataframe thead th {\n",
              "        text-align: right;\n",
              "    }\n",
              "</style>\n",
              "<table border=\"1\" class=\"dataframe\">\n",
              "  <thead>\n",
              "    <tr style=\"text-align: right;\">\n",
              "      <th></th>\n",
              "      <th>Town</th>\n",
              "      <th>1st Most Common Venue</th>\n",
              "      <th>2nd Most Common Venue</th>\n",
              "      <th>3rd Most Common Venue</th>\n",
              "      <th>4th Most Common Venue</th>\n",
              "      <th>5th Most Common Venue</th>\n",
              "    </tr>\n",
              "  </thead>\n",
              "  <tbody>\n",
              "  </tbody>\n",
              "</table>\n",
              "</div>"
            ],
            "text/plain": [
              "Empty DataFrame\n",
              "Columns: [Town, 1st Most Common Venue, 2nd Most Common Venue, 3rd Most Common Venue, 4th Most Common Venue, 5th Most Common Venue]\n",
              "Index: []"
            ]
          },
          "metadata": {
            "tags": []
          },
          "execution_count": 257
        }
      ]
    },
    {
      "cell_type": "markdown",
      "metadata": {
        "id": "oMaheIGHcFsA"
      },
      "source": [
        "Observations:\r\n",
        "\r\n",
        "Observations fall into cluster 0 and cluster 1 which are burger joints and restuarants. These are normally popular for university students who harly cook and eat out most commonly."
      ]
    }
  ]
}