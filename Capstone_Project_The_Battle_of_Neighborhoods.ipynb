{
  "nbformat": 4,
  "nbformat_minor": 0,
  "metadata": {
    "colab": {
      "name": "Capstone Project - The Battle of Neighborhoods.ipynb",
      "provenance": [],
      "collapsed_sections": [],
      "authorship_tag": "ABX9TyMXu04b70vCXwBtfCPft6hM",
      "include_colab_link": true
    },
    "kernelspec": {
      "name": "python3",
      "display_name": "Python 3"
    }
  },
  "cells": [
    {
      "cell_type": "markdown",
      "metadata": {
        "id": "view-in-github",
        "colab_type": "text"
      },
      "source": [
        "<a href=\"https://colab.research.google.com/github/phyllsmoyo/Coursera_Capstone/blob/branch_1/Capstone_Project_The_Battle_of_Neighborhoods.ipynb\" target=\"_parent\"><img src=\"https://colab.research.google.com/assets/colab-badge.svg\" alt=\"Open In Colab\"/></a>"
      ]
    },
    {
      "cell_type": "markdown",
      "metadata": {
        "id": "YdrtX-j7cJhZ"
      },
      "source": [
        "**The Battle of Neighborhoods**\r\n",
        "\r\n",
        "by [Phillip Sinothi Moyo](https://www.linkedin.com/in/phyllsmoyo/)"
      ]
    },
    {
      "cell_type": "markdown",
      "metadata": {
        "id": "75TAEu0zd7Ot"
      },
      "source": [
        "# **Introduction**"
      ]
    },
    {
      "cell_type": "markdown",
      "metadata": {
        "id": "ChshF8o0lpJk"
      },
      "source": [
        "Education is important for everyone in the world. Education is the process of achieving knowledge, values, skills, beliefs, and moral habits. For any country education enables people become better citizens, get a better-paid job, shows the difference between good and bad. Education shows us the importance of hard work and, at the same time, helps us grow and develop. Thus, we are able to shape a better society to live in by knowing and respecting rights, laws, and regulations. People without an education hardly get by in life because education teaches us how to think, how to work properly, and how to make decisions. The better the education, the more choices and opportunities one is going to have in life."
      ]
    },
    {
      "cell_type": "markdown",
      "metadata": {
        "id": "N0mEq5Vo1Q4E"
      },
      "source": [
        "**Importance of Education**\r\n",
        "\r\n",
        "A famous quote about education goes; \"Education is the key to success\". Education is important in the holistic development of a child’s social, emotional, cognitive and physical needs in order to build a solid and broad foundation for lifelong learning and wellbeing. \r\n"
      ]
    },
    {
      "cell_type": "markdown",
      "metadata": {
        "id": "IPSOWwpA1Vz7"
      },
      "source": [
        "**Business Problem**\r\n",
        "\r\n",
        "The objective of this project is to analyze universities and colleges of given provinces in South Africa and try to recommend the best Schools where they can send their children to school and are likely to obtain a good all around education with a balanced social life, on the other hand this project can be used by Department of Education and other wellwishers to identify poorly perfoming schools so that they can send required resources to improve the schools.\r\n",
        "\r\n",
        "The target audience for this project include parents, government and non-governental organizations insterested in the education sector."
      ]
    },
    {
      "cell_type": "markdown",
      "metadata": {
        "id": "vN9ZwZ0M3Wba"
      },
      "source": [
        "**Data**"
      ]
    },
    {
      "cell_type": "markdown",
      "metadata": {
        "id": "-Wtc5bh63_ey"
      },
      "source": [
        "To address the problem, we need to have the dataset that contains\r\n",
        "\r\n",
        "> * All the provinces of South Africa.\r\n",
        "> * All universities in South Africa.\r\n",
        "> * Latitude and longitudes of all the universities."
      ]
    },
    {
      "cell_type": "markdown",
      "metadata": {
        "id": "IHeqa8sR4nyB"
      },
      "source": [
        "Sources:\r\n",
        "1. [List of South African Universitis](https://en.wikipedia.org/wiki/List_of_universities_in_South_Africa)\r\n",
        "2. Obtain the coordinates of each University using thte Nominatin Geocorder.\r\n",
        "3. Explore the universities using the Foursquare API for each University.\r\n",
        "\r\n",
        "The Wikipedia is the major source of data that is being used to obtain all the Universities of South Africa. We then use the Pandas Library, a Python module that helps to scrape information from the web pages to extract all the tables from this Wikipedia page and convert it into a pandas dataframe. Then we use Python’s geopy package to obtain the latitude and longitude of all the Universities present in the dataframe."
      ]
    },
    {
      "cell_type": "markdown",
      "metadata": {
        "id": "O-h0LuFhbLH6"
      },
      "source": [
        "**Methodology**\r\n",
        "- Obtain data from the Wikipedia page.\r\n",
        "- Get coordinates using geocoder.\r\n",
        "- Get venues surrounding our universities of interest using the FourSquare API.\r\n",
        "- Filter venue categories.\r\n",
        "- Perform clustering on the data using k-means.\r\n",
        "- Visualize clusters using folium."
      ]
    },
    {
      "cell_type": "markdown",
      "metadata": {
        "id": "syEP7leNmT9x"
      },
      "source": [
        "## **Import the Libraries**"
      ]
    },
    {
      "cell_type": "code",
      "metadata": {
        "id": "hpdbclnBmhZQ"
      },
      "source": [
        "import pandas as pd # is a fast, powerful, flexible and easy to use open source data analysis and manipulation tool\r\n",
        "import numpy as np # is a general-purpose array-processing package for scientific computing\r\n",
        "import matplotlib.pyplot as plt # is a plotting library\r\n",
        "%matplotlib inline \r\n",
        "import requests # package to send HTTP requests using Python.\r\n",
        "import json # package used to work with JSON data\r\n",
        "from pandas.io.json import json_normalize # package Normalize semi-structured JSON data into a flat table.\r\n",
        "from geopy.geocoders import Nominatim\r\n",
        "import requests\r\n",
        "import matplotlib.cm as cm\r\n",
        "import matplotlib.colors as colors\r\n",
        "from matplotlib.colors import rgb2hex\r\n",
        "from sklearn.cluster import KMeans\r\n",
        "import folium\r\n",
        "import math\r\n",
        "import warnings\r\n",
        "warnings.filterwarnings(\"ignore\")\r\n",
        "pd.set_option('display.max_rows', None)\r\n",
        "pd.set_option('display.max_columns', None)\r\n",
        "pd.set_option('display.width', None)\r\n",
        "pd.set_option('display.max_colwidth', -1)"
      ],
      "execution_count": 183,
      "outputs": []
    },
    {
      "cell_type": "markdown",
      "metadata": {
        "id": "3kIajk9klY_M"
      },
      "source": [
        "# **Data Gathering**"
      ]
    },
    {
      "cell_type": "markdown",
      "metadata": {
        "id": "dYcRujTvdtGw"
      },
      "source": [
        "Url to with the table that contains the Universities."
      ]
    },
    {
      "cell_type": "code",
      "metadata": {
        "id": "Brb8gkiJledu"
      },
      "source": [
        "url = 'https://en.wikipedia.org/wiki/List_of_universities_in_South_Africa'"
      ],
      "execution_count": 184,
      "outputs": []
    },
    {
      "cell_type": "markdown",
      "metadata": {
        "id": "N17IAaF_d3HC"
      },
      "source": [
        "Pandas ```read_html``` is pretty simple and works well on many Wikipedia pages since the tables are not complicated."
      ]
    },
    {
      "cell_type": "code",
      "metadata": {
        "id": "d7SHO3JjmKaC",
        "colab": {
          "base_uri": "https://localhost:8080/"
        },
        "outputId": "79a89148-5315-4307-9478-f736392eb757"
      },
      "source": [
        "table = pd.read_html(url, flavor=['lxml', 'bs4'])\r\n",
        "print(f'Total tables in the url: {len(table)}')"
      ],
      "execution_count": 185,
      "outputs": [
        {
          "output_type": "stream",
          "text": [
            "Total tables in the url: 10\n"
          ],
          "name": "stdout"
        }
      ]
    },
    {
      "cell_type": "markdown",
      "metadata": {
        "id": "1Agz3WiFeTbc"
      },
      "source": [
        "The list of hte required universities is separated into 3 different tables, use pandas concat to add the tables together.\r\n"
      ]
    },
    {
      "cell_type": "code",
      "metadata": {
        "id": "Pci-YKhAXmQL"
      },
      "source": [
        "table1 = table[0]\r\n",
        "table2 = table[1]\r\n",
        "table3 = table[2]\r\n",
        "\r\n",
        "df_uni = pd.concat([table1, table2, table3])"
      ],
      "execution_count": 186,
      "outputs": []
    },
    {
      "cell_type": "markdown",
      "metadata": {
        "id": "Rv3XCf0Iej5l"
      },
      "source": [
        "Obtain the column names as list in order to filter for only the required columns."
      ]
    },
    {
      "cell_type": "code",
      "metadata": {
        "colab": {
          "base_uri": "https://localhost:8080/"
        },
        "id": "twtU4ouFbe-R",
        "outputId": "a10bcf9d-a258-496b-f29b-9fc209c2ba3b"
      },
      "source": [
        "df_uni.columns.tolist()"
      ],
      "execution_count": 187,
      "outputs": [
        {
          "output_type": "execute_result",
          "data": {
            "text/plain": [
              "['Institution',\n",
              " 'Nickname',\n",
              " 'Founded',\n",
              " 'University status',\n",
              " 'Undergrad',\n",
              " 'Postgrad',\n",
              " 'Total',\n",
              " 'Location(s)',\n",
              " 'Medium',\n",
              " 'Total (2011)']"
            ]
          },
          "metadata": {
            "tags": []
          },
          "execution_count": 187
        }
      ]
    },
    {
      "cell_type": "markdown",
      "metadata": {
        "id": "FsfS7OuneyNQ"
      },
      "source": [
        "Create a dataframe of tables with only columns that we are interested in."
      ]
    },
    {
      "cell_type": "code",
      "metadata": {
        "id": "ENwMecMsbniC"
      },
      "source": [
        "df = df_uni[['Institution', 'Location(s)']]\r\n",
        "df = df.rename(columns={'Location(s)': 'Location'})"
      ],
      "execution_count": 188,
      "outputs": []
    },
    {
      "cell_type": "markdown",
      "metadata": {
        "id": "KYjjYHgbfGkc"
      },
      "source": [
        "It should be noted that the some Universities has multiple campuses and to get the correct geocoordinates we will seperate the locations."
      ]
    },
    {
      "cell_type": "code",
      "metadata": {
        "colab": {
          "base_uri": "https://localhost:8080/",
          "height": 198
        },
        "id": "Dnz-FDWpda1A",
        "outputId": "4bd83130-6eb5-4a90-f843-1d04d764acac"
      },
      "source": [
        "#Split the universities to for each campus in each location and reset index\r\n",
        "df = df.assign(Location=df['Location'].str.split(',')).explode('Location').reset_index(drop=True)\r\n",
        "\r\n",
        "#View the resulting DataFrame to c heck if the split worked correctly\r\n",
        "df[df['Institution'] == 'Vaal University of Technology']"
      ],
      "execution_count": 189,
      "outputs": [
        {
          "output_type": "execute_result",
          "data": {
            "text/html": [
              "<div>\n",
              "<style scoped>\n",
              "    .dataframe tbody tr th:only-of-type {\n",
              "        vertical-align: middle;\n",
              "    }\n",
              "\n",
              "    .dataframe tbody tr th {\n",
              "        vertical-align: top;\n",
              "    }\n",
              "\n",
              "    .dataframe thead th {\n",
              "        text-align: right;\n",
              "    }\n",
              "</style>\n",
              "<table border=\"1\" class=\"dataframe\">\n",
              "  <thead>\n",
              "    <tr style=\"text-align: right;\">\n",
              "      <th></th>\n",
              "      <th>Institution</th>\n",
              "      <th>Location</th>\n",
              "    </tr>\n",
              "  </thead>\n",
              "  <tbody>\n",
              "    <tr>\n",
              "      <th>56</th>\n",
              "      <td>Vaal University of Technology</td>\n",
              "      <td>Vanderbijlpark</td>\n",
              "    </tr>\n",
              "    <tr>\n",
              "      <th>57</th>\n",
              "      <td>Vaal University of Technology</td>\n",
              "      <td>Secunda</td>\n",
              "    </tr>\n",
              "    <tr>\n",
              "      <th>58</th>\n",
              "      <td>Vaal University of Technology</td>\n",
              "      <td>Kempton Park</td>\n",
              "    </tr>\n",
              "    <tr>\n",
              "      <th>59</th>\n",
              "      <td>Vaal University of Technology</td>\n",
              "      <td>Klerksdorp</td>\n",
              "    </tr>\n",
              "    <tr>\n",
              "      <th>60</th>\n",
              "      <td>Vaal University of Technology</td>\n",
              "      <td>Upington</td>\n",
              "    </tr>\n",
              "  </tbody>\n",
              "</table>\n",
              "</div>"
            ],
            "text/plain": [
              "                      Institution        Location\n",
              "56  Vaal University of Technology  Vanderbijlpark\n",
              "57  Vaal University of Technology   Secunda      \n",
              "58  Vaal University of Technology   Kempton Park \n",
              "59  Vaal University of Technology   Klerksdorp   \n",
              "60  Vaal University of Technology   Upington     "
            ]
          },
          "metadata": {
            "tags": []
          },
          "execution_count": 189
        }
      ]
    },
    {
      "cell_type": "code",
      "metadata": {
        "colab": {
          "base_uri": "https://localhost:8080/",
          "height": 648
        },
        "id": "TLaV_XXUv5R-",
        "outputId": "585b8146-2885-406e-ed3b-a2456aa454a9"
      },
      "source": [
        "#Drop University of Pretoria - Johannesburg as there is no campus in Johannesburg.\r\n",
        "df.drop(index=17, inplace=True)\r\n",
        "\r\n",
        "#Remove University of South Africa from the DataFrame as it is a long distance University.\r\n",
        "filter = (df['Institution'] == 'University of South Africa')\r\n",
        "df = df[~filter].reset_index(drop=True)\r\n",
        "df.head(20)"
      ],
      "execution_count": 190,
      "outputs": [
        {
          "output_type": "execute_result",
          "data": {
            "text/html": [
              "<div>\n",
              "<style scoped>\n",
              "    .dataframe tbody tr th:only-of-type {\n",
              "        vertical-align: middle;\n",
              "    }\n",
              "\n",
              "    .dataframe tbody tr th {\n",
              "        vertical-align: top;\n",
              "    }\n",
              "\n",
              "    .dataframe thead th {\n",
              "        text-align: right;\n",
              "    }\n",
              "</style>\n",
              "<table border=\"1\" class=\"dataframe\">\n",
              "  <thead>\n",
              "    <tr style=\"text-align: right;\">\n",
              "      <th></th>\n",
              "      <th>Institution</th>\n",
              "      <th>Location</th>\n",
              "    </tr>\n",
              "  </thead>\n",
              "  <tbody>\n",
              "    <tr>\n",
              "      <th>0</th>\n",
              "      <td>University of Cape Town</td>\n",
              "      <td>Cape Town</td>\n",
              "    </tr>\n",
              "    <tr>\n",
              "      <th>1</th>\n",
              "      <td>University of Fort Hare</td>\n",
              "      <td>Alice</td>\n",
              "    </tr>\n",
              "    <tr>\n",
              "      <th>2</th>\n",
              "      <td>University of Fort Hare</td>\n",
              "      <td>East London</td>\n",
              "    </tr>\n",
              "    <tr>\n",
              "      <th>3</th>\n",
              "      <td>University of Fort Hare</td>\n",
              "      <td>Bhisho</td>\n",
              "    </tr>\n",
              "    <tr>\n",
              "      <th>4</th>\n",
              "      <td>University of the Free State</td>\n",
              "      <td>Bloemfontein</td>\n",
              "    </tr>\n",
              "    <tr>\n",
              "      <th>5</th>\n",
              "      <td>University of the Free State</td>\n",
              "      <td>QwaQwa</td>\n",
              "    </tr>\n",
              "    <tr>\n",
              "      <th>6</th>\n",
              "      <td>University of KwaZulu-Natal</td>\n",
              "      <td>Durban</td>\n",
              "    </tr>\n",
              "    <tr>\n",
              "      <th>7</th>\n",
              "      <td>University of KwaZulu-Natal</td>\n",
              "      <td>Pietermaritzburg</td>\n",
              "    </tr>\n",
              "    <tr>\n",
              "      <th>8</th>\n",
              "      <td>University of KwaZulu-Natal</td>\n",
              "      <td>Pinetown</td>\n",
              "    </tr>\n",
              "    <tr>\n",
              "      <th>9</th>\n",
              "      <td>University of KwaZulu-Natal</td>\n",
              "      <td>Westville</td>\n",
              "    </tr>\n",
              "    <tr>\n",
              "      <th>10</th>\n",
              "      <td>University of Limpopo</td>\n",
              "      <td>Polokwane</td>\n",
              "    </tr>\n",
              "    <tr>\n",
              "      <th>11</th>\n",
              "      <td>University of Limpopo</td>\n",
              "      <td>Turfloop</td>\n",
              "    </tr>\n",
              "    <tr>\n",
              "      <th>12</th>\n",
              "      <td>North-West University</td>\n",
              "      <td>Mafikeng</td>\n",
              "    </tr>\n",
              "    <tr>\n",
              "      <th>13</th>\n",
              "      <td>North-West University</td>\n",
              "      <td>Mankwe</td>\n",
              "    </tr>\n",
              "    <tr>\n",
              "      <th>14</th>\n",
              "      <td>North-West University</td>\n",
              "      <td>Potchefstroom</td>\n",
              "    </tr>\n",
              "    <tr>\n",
              "      <th>15</th>\n",
              "      <td>North-West University</td>\n",
              "      <td>Vanderbijlpark</td>\n",
              "    </tr>\n",
              "    <tr>\n",
              "      <th>16</th>\n",
              "      <td>University of Pretoria</td>\n",
              "      <td>Pretoria</td>\n",
              "    </tr>\n",
              "    <tr>\n",
              "      <th>17</th>\n",
              "      <td>Rhodes University</td>\n",
              "      <td>Grahamstown</td>\n",
              "    </tr>\n",
              "    <tr>\n",
              "      <th>18</th>\n",
              "      <td>Sefako Makgatho Health Sciences University4</td>\n",
              "      <td>Ga-Rankuwa</td>\n",
              "    </tr>\n",
              "    <tr>\n",
              "      <th>19</th>\n",
              "      <td>Sefako Makgatho Health Sciences University4</td>\n",
              "      <td>Pretoria</td>\n",
              "    </tr>\n",
              "  </tbody>\n",
              "</table>\n",
              "</div>"
            ],
            "text/plain": [
              "                                    Institution           Location\n",
              "0   University of Cape Town                      Cape Town        \n",
              "1   University of Fort Hare                      Alice            \n",
              "2   University of Fort Hare                       East London     \n",
              "3   University of Fort Hare                       Bhisho          \n",
              "4   University of the Free State                 Bloemfontein     \n",
              "5   University of the Free State                  QwaQwa          \n",
              "6   University of KwaZulu-Natal                  Durban           \n",
              "7   University of KwaZulu-Natal                   Pietermaritzburg\n",
              "8   University of KwaZulu-Natal                   Pinetown        \n",
              "9   University of KwaZulu-Natal                   Westville       \n",
              "10  University of Limpopo                        Polokwane        \n",
              "11  University of Limpopo                         Turfloop        \n",
              "12  North-West University                        Mafikeng         \n",
              "13  North-West University                         Mankwe          \n",
              "14  North-West University                         Potchefstroom   \n",
              "15  North-West University                         Vanderbijlpark  \n",
              "16  University of Pretoria                       Pretoria         \n",
              "17  Rhodes University                            Grahamstown      \n",
              "18  Sefako Makgatho Health Sciences University4  Ga-Rankuwa       \n",
              "19  Sefako Makgatho Health Sciences University4   Pretoria        "
            ]
          },
          "metadata": {
            "tags": []
          },
          "execution_count": 190
        }
      ]
    },
    {
      "cell_type": "code",
      "metadata": {
        "colab": {
          "base_uri": "https://localhost:8080/"
        },
        "id": "TOBk5sYj0MpB",
        "outputId": "6fba544f-2fbb-449e-fcaf-dc54bec33a1e"
      },
      "source": [
        "#Check if the DataFrame has any duplicates.\r\n",
        "df.duplicated().any()"
      ],
      "execution_count": 191,
      "outputs": [
        {
          "output_type": "execute_result",
          "data": {
            "text/plain": [
              "False"
            ]
          },
          "metadata": {
            "tags": []
          },
          "execution_count": 191
        }
      ]
    },
    {
      "cell_type": "code",
      "metadata": {
        "colab": {
          "base_uri": "https://localhost:8080/"
        },
        "id": "_sM9V8_J6jk8",
        "outputId": "4d89d70b-d830-482c-83ab-ff7625de49f4"
      },
      "source": [
        "df[\"Latitude\"] = \"\"\r\n",
        "df[\"Longitude\"] = \"\"\r\n",
        "df.shape"
      ],
      "execution_count": 192,
      "outputs": [
        {
          "output_type": "execute_result",
          "data": {
            "text/plain": [
              "(57, 4)"
            ]
          },
          "metadata": {
            "tags": []
          },
          "execution_count": 192
        }
      ]
    },
    {
      "cell_type": "code",
      "metadata": {
        "colab": {
          "base_uri": "https://localhost:8080/"
        },
        "id": "9u8KvGgVulaA",
        "outputId": "6d4a2df7-289b-4cc3-e0c5-b24e90727b54"
      },
      "source": [
        "# Need to drop those Neighborhood that the geocode does not find\r\n",
        "to_drop_unknown = []\r\n",
        "geolocator = Nominatim(user_agent=\"sa_explorer\")\r\n",
        "for index, row in df.iterrows():\r\n",
        "    address = row['Location'] + ', South Africa'\r\n",
        "    try:\r\n",
        "        location = geolocator.geocode(address)\r\n",
        "        latitude = location.latitude\r\n",
        "        longitude = location.longitude\r\n",
        "        print('The geograpical coordinate of {} are {}, {}.'.format(address, latitude, longitude))\r\n",
        "        df.loc[index, 'Latitude'] = latitude\r\n",
        "        df.loc[index, 'Longitude'] = longitude\r\n",
        "    except AttributeError:\r\n",
        "        print('Cannot do: {}, will drop index: {}'.format(address, index))\r\n",
        "        to_drop_unknown.append(index)"
      ],
      "execution_count": 193,
      "outputs": [
        {
          "output_type": "stream",
          "text": [
            "The geograpical coordinate of Cape Town, South Africa are -33.928992, 18.417396.\n",
            "The geograpical coordinate of Alice, South Africa are -32.7888889, 26.8344444.\n",
            "The geograpical coordinate of  East London, South Africa are -33.0191604, 27.8998573.\n",
            "The geograpical coordinate of  Bhisho, South Africa are -32.8494444, 27.4463889.\n",
            "The geograpical coordinate of Bloemfontein, South Africa are -29.116395, 26.215496.\n",
            "The geograpical coordinate of  QwaQwa, South Africa are -28.5359227, 28.8066789.\n",
            "The geograpical coordinate of Durban, South Africa are -29.861825, 31.009909.\n",
            "The geograpical coordinate of  Pietermaritzburg, South Africa are -29.6, 30.3788889.\n",
            "The geograpical coordinate of  Pinetown, South Africa are -29.818056, 30.884167.\n",
            "The geograpical coordinate of  Westville, South Africa are -29.8244444, 30.9386111.\n",
            "The geograpical coordinate of Polokwane, South Africa are -23.9058333, 29.4613889.\n",
            "The geograpical coordinate of  Turfloop, South Africa are -23.88687725, 29.73143763805989.\n",
            "The geograpical coordinate of Mafikeng, South Africa are -25.863611, 25.658611.\n",
            "The geograpical coordinate of  Mankwe, South Africa are -25.2458, 27.1167.\n",
            "The geograpical coordinate of  Potchefstroom, South Africa are -26.7150922, 27.1013887.\n",
            "The geograpical coordinate of  Vanderbijlpark, South Africa are -26.706891, 27.836271.\n",
            "The geograpical coordinate of Pretoria, South Africa are -25.7459374, 28.1879444.\n",
            "The geograpical coordinate of Grahamstown, South Africa are -33.3070589, 26.5272648.\n",
            "The geograpical coordinate of Ga-Rankuwa, South Africa are -25.6041667, 28.0052778.\n",
            "The geograpical coordinate of  Pretoria, South Africa are -25.7459374, 28.1879444.\n",
            "The geograpical coordinate of Stellenbosch, South Africa are -33.934444, 18.869167.\n",
            "The geograpical coordinate of  Saldanha Bay, South Africa are -33.0347222, 18.0097222.\n",
            "The geograpical coordinate of  Bellville, South Africa are -33.8837334, 18.636870177662715.\n",
            "The geograpical coordinate of  Tygerberg, South Africa are -33.8538143, 18.5886298.\n",
            "The geograpical coordinate of Bellville (Cape Town), South Africa are -33.8837334, 18.636870177662715.\n",
            "The geograpical coordinate of Johannesburg, South Africa are -26.205, 28.049722.\n",
            "The geograpical coordinate of Johannesburg, South Africa are -26.205, 28.049722.\n",
            "The geograpical coordinate of  Soweto, South Africa are -26.2227778, 27.89.\n",
            "The geograpical coordinate of Port Elizabeth, South Africa are -33.9617051, 25.6207519.\n",
            "The geograpical coordinate of  George, South Africa are -33.964444, 22.459722.\n",
            "The geograpical coordinate of Thohoyandou, South Africa are -22.9676429, 30.4596582.\n",
            "The geograpical coordinate of East London, South Africa are -33.0191604, 27.8998573.\n",
            "The geograpical coordinate of  Butterworth, South Africa are -32.330549, 28.142492.\n",
            "The geograpical coordinate of  Mthatha, South Africa are -31.589075, 28.789145.\n",
            "The geograpical coordinate of  Queenstown, South Africa are -31.892843, 26.8776814.\n",
            "The geograpical coordinate of Empangeni, South Africa are -28.746111, 31.897222.\n",
            "The geograpical coordinate of Bellville, South Africa are -33.8837334, 18.636870177662715.\n",
            "The geograpical coordinate of  Cape Town, South Africa are -33.928992, 18.417396.\n",
            "The geograpical coordinate of Bloemfontein, South Africa are -29.116395, 26.215496.\n",
            "The geograpical coordinate of  Welkom, South Africa are -27.982298, 26.737969.\n",
            "The geograpical coordinate of Durban, South Africa are -29.861825, 31.009909.\n",
            "The geograpical coordinate of  Pietermaritzburg, South Africa are -29.6, 30.3788889.\n",
            "The geograpical coordinate of Umlazi, South Africa are -29.9525, 30.900278.\n",
            "The geograpical coordinate of Mbombela, South Africa are -25.35033975, 31.25925876091336.\n",
            "The geograpical coordinate of Kimberley, South Africa are -28.7383012, 24.7642251.\n",
            "The geograpical coordinate of  Northern Cape, South Africa are -29.573402, 21.2051361.\n",
            "The geograpical coordinate of Pretoria, South Africa are -25.7459374, 28.1879444.\n",
            "The geograpical coordinate of  Mbombela, South Africa are -25.35033975, 31.25925876091336.\n",
            "The geograpical coordinate of  Polokwane, South Africa are -23.9058333, 29.4613889.\n",
            "The geograpical coordinate of  Ga-Rankuwa, South Africa are -25.6041667, 28.0052778.\n",
            "The geograpical coordinate of  Soshanguve, South Africa are -25.5263889, 28.0994444.\n",
            "The geograpical coordinate of  Witbank, South Africa are -25.8763485, 29.2010447.\n",
            "The geograpical coordinate of Vanderbijlpark, South Africa are -26.706891, 27.836271.\n",
            "The geograpical coordinate of  Secunda, South Africa are -26.516111, 29.202778.\n",
            "The geograpical coordinate of  Kempton Park, South Africa are -26.0964372, 28.2336325.\n",
            "The geograpical coordinate of  Klerksdorp, South Africa are -26.8625383, 26.6656814.\n",
            "The geograpical coordinate of  Upington, South Africa are -28.456325, 21.241867.\n"
          ],
          "name": "stdout"
        }
      ]
    },
    {
      "cell_type": "code",
      "metadata": {
        "colab": {
          "base_uri": "https://localhost:8080/",
          "height": 198
        },
        "id": "9OMRY9wUgTPI",
        "outputId": "f11e3d73-5a62-4f28-e652-f74a251b1dcb"
      },
      "source": [
        "df.head()"
      ],
      "execution_count": 207,
      "outputs": [
        {
          "output_type": "execute_result",
          "data": {
            "text/html": [
              "<div>\n",
              "<style scoped>\n",
              "    .dataframe tbody tr th:only-of-type {\n",
              "        vertical-align: middle;\n",
              "    }\n",
              "\n",
              "    .dataframe tbody tr th {\n",
              "        vertical-align: top;\n",
              "    }\n",
              "\n",
              "    .dataframe thead th {\n",
              "        text-align: right;\n",
              "    }\n",
              "</style>\n",
              "<table border=\"1\" class=\"dataframe\">\n",
              "  <thead>\n",
              "    <tr style=\"text-align: right;\">\n",
              "      <th></th>\n",
              "      <th>Institution</th>\n",
              "      <th>Location</th>\n",
              "      <th>Latitude</th>\n",
              "      <th>Longitude</th>\n",
              "    </tr>\n",
              "  </thead>\n",
              "  <tbody>\n",
              "    <tr>\n",
              "      <th>0</th>\n",
              "      <td>University of Cape Town</td>\n",
              "      <td>Cape Town</td>\n",
              "      <td>-33.929</td>\n",
              "      <td>18.4174</td>\n",
              "    </tr>\n",
              "    <tr>\n",
              "      <th>1</th>\n",
              "      <td>University of Fort Hare</td>\n",
              "      <td>Alice</td>\n",
              "      <td>-32.7889</td>\n",
              "      <td>26.8344</td>\n",
              "    </tr>\n",
              "    <tr>\n",
              "      <th>2</th>\n",
              "      <td>University of Fort Hare</td>\n",
              "      <td>East London</td>\n",
              "      <td>-33.0192</td>\n",
              "      <td>27.8999</td>\n",
              "    </tr>\n",
              "    <tr>\n",
              "      <th>3</th>\n",
              "      <td>University of Fort Hare</td>\n",
              "      <td>Bhisho</td>\n",
              "      <td>-32.8494</td>\n",
              "      <td>27.4464</td>\n",
              "    </tr>\n",
              "    <tr>\n",
              "      <th>4</th>\n",
              "      <td>University of the Free State</td>\n",
              "      <td>Bloemfontein</td>\n",
              "      <td>-29.1164</td>\n",
              "      <td>26.2155</td>\n",
              "    </tr>\n",
              "  </tbody>\n",
              "</table>\n",
              "</div>"
            ],
            "text/plain": [
              "                    Institution      Location Latitude Longitude\n",
              "0  University of Cape Town       Cape Town    -33.929   18.4174 \n",
              "1  University of Fort Hare       Alice        -32.7889  26.8344 \n",
              "2  University of Fort Hare        East London -33.0192  27.8999 \n",
              "3  University of Fort Hare        Bhisho      -32.8494  27.4464 \n",
              "4  University of the Free State  Bloemfontein -29.1164  26.2155 "
            ]
          },
          "metadata": {
            "tags": []
          },
          "execution_count": 207
        }
      ]
    },
    {
      "cell_type": "code",
      "metadata": {
        "colab": {
          "base_uri": "https://localhost:8080/",
          "height": 198
        },
        "id": "qP8-FJ-aJ35V",
        "outputId": "a3a990d9-6426-4ce0-880e-72ff9bee9ca6"
      },
      "source": [
        "df.rename(columns={'Location':'Town'}, inplace=True)\r\n",
        "df.head()"
      ],
      "execution_count": 218,
      "outputs": [
        {
          "output_type": "execute_result",
          "data": {
            "text/html": [
              "<div>\n",
              "<style scoped>\n",
              "    .dataframe tbody tr th:only-of-type {\n",
              "        vertical-align: middle;\n",
              "    }\n",
              "\n",
              "    .dataframe tbody tr th {\n",
              "        vertical-align: top;\n",
              "    }\n",
              "\n",
              "    .dataframe thead th {\n",
              "        text-align: right;\n",
              "    }\n",
              "</style>\n",
              "<table border=\"1\" class=\"dataframe\">\n",
              "  <thead>\n",
              "    <tr style=\"text-align: right;\">\n",
              "      <th></th>\n",
              "      <th>Institution</th>\n",
              "      <th>Town</th>\n",
              "      <th>Latitude</th>\n",
              "      <th>Longitude</th>\n",
              "    </tr>\n",
              "  </thead>\n",
              "  <tbody>\n",
              "    <tr>\n",
              "      <th>0</th>\n",
              "      <td>University of Cape Town</td>\n",
              "      <td>Cape Town</td>\n",
              "      <td>-33.929</td>\n",
              "      <td>18.4174</td>\n",
              "    </tr>\n",
              "    <tr>\n",
              "      <th>1</th>\n",
              "      <td>University of Fort Hare</td>\n",
              "      <td>Alice</td>\n",
              "      <td>-32.7889</td>\n",
              "      <td>26.8344</td>\n",
              "    </tr>\n",
              "    <tr>\n",
              "      <th>2</th>\n",
              "      <td>University of Fort Hare</td>\n",
              "      <td>East London</td>\n",
              "      <td>-33.0192</td>\n",
              "      <td>27.8999</td>\n",
              "    </tr>\n",
              "    <tr>\n",
              "      <th>3</th>\n",
              "      <td>University of Fort Hare</td>\n",
              "      <td>Bhisho</td>\n",
              "      <td>-32.8494</td>\n",
              "      <td>27.4464</td>\n",
              "    </tr>\n",
              "    <tr>\n",
              "      <th>4</th>\n",
              "      <td>University of the Free State</td>\n",
              "      <td>Bloemfontein</td>\n",
              "      <td>-29.1164</td>\n",
              "      <td>26.2155</td>\n",
              "    </tr>\n",
              "  </tbody>\n",
              "</table>\n",
              "</div>"
            ],
            "text/plain": [
              "                    Institution          Town Latitude Longitude\n",
              "0  University of Cape Town       Cape Town    -33.929   18.4174 \n",
              "1  University of Fort Hare       Alice        -32.7889  26.8344 \n",
              "2  University of Fort Hare        East London -33.0192  27.8999 \n",
              "3  University of Fort Hare        Bhisho      -32.8494  27.4464 \n",
              "4  University of the Free State  Bloemfontein -29.1164  26.2155 "
            ]
          },
          "metadata": {
            "tags": []
          },
          "execution_count": 218
        }
      ]
    },
    {
      "cell_type": "code",
      "metadata": {
        "colab": {
          "base_uri": "https://localhost:8080/",
          "height": 168
        },
        "id": "g1ID-BLnK1Ze",
        "outputId": "935e55e8-a819-4338-a89f-e81947089365"
      },
      "source": [
        "#Filter for Universities in Johannesburg and Pretoria\r\n",
        "filter_gp = (df['Town'] == 'Johannesburg') | (df['Town'] == 'Pretoria')\r\n",
        "df_gp = df[filter_gp]\r\n",
        "df_gp"
      ],
      "execution_count": 221,
      "outputs": [
        {
          "output_type": "execute_result",
          "data": {
            "text/html": [
              "<div>\n",
              "<style scoped>\n",
              "    .dataframe tbody tr th:only-of-type {\n",
              "        vertical-align: middle;\n",
              "    }\n",
              "\n",
              "    .dataframe tbody tr th {\n",
              "        vertical-align: top;\n",
              "    }\n",
              "\n",
              "    .dataframe thead th {\n",
              "        text-align: right;\n",
              "    }\n",
              "</style>\n",
              "<table border=\"1\" class=\"dataframe\">\n",
              "  <thead>\n",
              "    <tr style=\"text-align: right;\">\n",
              "      <th></th>\n",
              "      <th>Institution</th>\n",
              "      <th>Town</th>\n",
              "      <th>Latitude</th>\n",
              "      <th>Longitude</th>\n",
              "    </tr>\n",
              "  </thead>\n",
              "  <tbody>\n",
              "    <tr>\n",
              "      <th>16</th>\n",
              "      <td>University of Pretoria</td>\n",
              "      <td>Pretoria</td>\n",
              "      <td>-25.7459</td>\n",
              "      <td>28.1879</td>\n",
              "    </tr>\n",
              "    <tr>\n",
              "      <th>25</th>\n",
              "      <td>University of the Witwatersrand</td>\n",
              "      <td>Johannesburg</td>\n",
              "      <td>-26.205</td>\n",
              "      <td>28.0497</td>\n",
              "    </tr>\n",
              "    <tr>\n",
              "      <th>26</th>\n",
              "      <td>University of Johannesburg</td>\n",
              "      <td>Johannesburg</td>\n",
              "      <td>-26.205</td>\n",
              "      <td>28.0497</td>\n",
              "    </tr>\n",
              "    <tr>\n",
              "      <th>46</th>\n",
              "      <td>Tshwane University of Technology</td>\n",
              "      <td>Pretoria</td>\n",
              "      <td>-25.7459</td>\n",
              "      <td>28.1879</td>\n",
              "    </tr>\n",
              "  </tbody>\n",
              "</table>\n",
              "</div>"
            ],
            "text/plain": [
              "                         Institution          Town Latitude Longitude\n",
              "16  University of Pretoria            Pretoria     -25.7459  28.1879 \n",
              "25  University of the Witwatersrand   Johannesburg -26.205   28.0497 \n",
              "26  University of Johannesburg        Johannesburg -26.205   28.0497 \n",
              "46  Tshwane University of Technology  Pretoria     -25.7459  28.1879 "
            ]
          },
          "metadata": {
            "tags": []
          },
          "execution_count": 221
        }
      ]
    },
    {
      "cell_type": "code",
      "metadata": {
        "id": "uIsWdmJVM6K2"
      },
      "source": [
        "# define Foursquare Credentials and Version\r\n",
        "CLIENT_ID = 'AEEH2T5ADCYUM3YRO35VFBSMZDLIMBC13JW02XPLSMGVDO2R' # your Foursquare ID\r\n",
        "CLIENT_SECRET = 'XHLCJYOXO0QVK40PK3NGAACUIXUXZUKIFNJQ2FUVMZKVUYNB' # your Foursquare Secret\r\n",
        "VERSION = '20210118' # Foursquare API version\r\n"
      ],
      "execution_count": 222,
      "outputs": []
    },
    {
      "cell_type": "code",
      "metadata": {
        "id": "MxDAc1-QOA0S"
      },
      "source": [
        "#Top 100 venues that are within a radius of 500 meters.\r\n",
        "radius = 500\r\n",
        "LIMIT = 100\r\n",
        "\r\n",
        "venues = []\r\n",
        "\r\n",
        "for lat, long, town, institution in zip(df_gp['Latitude'], df_gp['Longitude'], df_gp['Town'], df_gp['Institution']):\r\n",
        "    url = \"https://api.foursquare.com/v2/venues/explore?client_id={}&client_secret={}&v={}&ll={},{}&radius={}&limit={}\".format(CLIENT_ID,\r\n",
        "                                                                                                                               CLIENT_SECRET,\r\n",
        "                                                                                                                               VERSION,\r\n",
        "                                                                                                                               lat,\r\n",
        "                                                                                                                               long,        \r\n",
        "                                                                                                                               radius,\r\n",
        "                                                                                                                               LIMIT)\r\n",
        "    \r\n",
        "    results = requests.get(url).json()[\"response\"]['groups'][0]['items']\r\n",
        "    \r\n",
        "    for venue in results:\r\n",
        "        venues.append((institution,\r\n",
        "                       town,\r\n",
        "                       lat,\r\n",
        "                       long, \r\n",
        "            venue['venue']['name'], \r\n",
        "            venue['venue']['location']['lat'], \r\n",
        "            venue['venue']['location']['lng'],  \r\n",
        "            venue['venue']['categories'][0]['name']))\r\n"
      ],
      "execution_count": 223,
      "outputs": []
    },
    {
      "cell_type": "code",
      "metadata": {
        "colab": {
          "base_uri": "https://localhost:8080/",
          "height": 340
        },
        "id": "hnbPasFuPiwX",
        "outputId": "f0a46cd8-2ba4-4fd4-b415-d03be887b81a"
      },
      "source": [
        "# convert the venues list into a new DataFrame\r\n",
        "venues_df = pd.DataFrame(venues)\r\n",
        "\r\n",
        "# define the column names\r\n",
        "venues_df.columns = ['Institution', 'Town', 'TownLatitude', 'TownLongitude', 'VenueName', 'VenueLatitude', 'VenueLongitude', 'VenueCategory']\r\n",
        "\r\n",
        "print(venues_df.shape)\r\n",
        "venues_df.head()"
      ],
      "execution_count": 227,
      "outputs": [
        {
          "output_type": "stream",
          "text": [
            "(32, 8)\n"
          ],
          "name": "stdout"
        },
        {
          "output_type": "execute_result",
          "data": {
            "text/html": [
              "<div>\n",
              "<style scoped>\n",
              "    .dataframe tbody tr th:only-of-type {\n",
              "        vertical-align: middle;\n",
              "    }\n",
              "\n",
              "    .dataframe tbody tr th {\n",
              "        vertical-align: top;\n",
              "    }\n",
              "\n",
              "    .dataframe thead th {\n",
              "        text-align: right;\n",
              "    }\n",
              "</style>\n",
              "<table border=\"1\" class=\"dataframe\">\n",
              "  <thead>\n",
              "    <tr style=\"text-align: right;\">\n",
              "      <th></th>\n",
              "      <th>Institution</th>\n",
              "      <th>Town</th>\n",
              "      <th>TownLatitude</th>\n",
              "      <th>TownLongitude</th>\n",
              "      <th>VenueName</th>\n",
              "      <th>VenueLatitude</th>\n",
              "      <th>VenueLongitude</th>\n",
              "      <th>VenueCategory</th>\n",
              "    </tr>\n",
              "  </thead>\n",
              "  <tbody>\n",
              "    <tr>\n",
              "      <th>0</th>\n",
              "      <td>University of Pretoria</td>\n",
              "      <td>Pretoria</td>\n",
              "      <td>-25.745937</td>\n",
              "      <td>28.187944</td>\n",
              "      <td>Café Riche</td>\n",
              "      <td>-25.746579</td>\n",
              "      <td>28.187304</td>\n",
              "      <td>Café</td>\n",
              "    </tr>\n",
              "    <tr>\n",
              "      <th>1</th>\n",
              "      <td>University of Pretoria</td>\n",
              "      <td>Pretoria</td>\n",
              "      <td>-25.745937</td>\n",
              "      <td>28.187944</td>\n",
              "      <td>TriBeCa Coffee Shop</td>\n",
              "      <td>-25.744835</td>\n",
              "      <td>28.188936</td>\n",
              "      <td>Coffee Shop</td>\n",
              "    </tr>\n",
              "    <tr>\n",
              "      <th>2</th>\n",
              "      <td>University of Pretoria</td>\n",
              "      <td>Pretoria</td>\n",
              "      <td>-25.745937</td>\n",
              "      <td>28.187944</td>\n",
              "      <td>Church Square</td>\n",
              "      <td>-25.746366</td>\n",
              "      <td>28.188006</td>\n",
              "      <td>Plaza</td>\n",
              "    </tr>\n",
              "    <tr>\n",
              "      <th>3</th>\n",
              "      <td>University of Pretoria</td>\n",
              "      <td>Pretoria</td>\n",
              "      <td>-25.745937</td>\n",
              "      <td>28.187944</td>\n",
              "      <td>Wimpy</td>\n",
              "      <td>-25.748014</td>\n",
              "      <td>28.189257</td>\n",
              "      <td>Burger Joint</td>\n",
              "    </tr>\n",
              "    <tr>\n",
              "      <th>4</th>\n",
              "      <td>University of Pretoria</td>\n",
              "      <td>Pretoria</td>\n",
              "      <td>-25.745937</td>\n",
              "      <td>28.187944</td>\n",
              "      <td>Wimpy</td>\n",
              "      <td>-25.744685</td>\n",
              "      <td>28.189424</td>\n",
              "      <td>Burger Joint</td>\n",
              "    </tr>\n",
              "  </tbody>\n",
              "</table>\n",
              "</div>"
            ],
            "text/plain": [
              "              Institution      Town  TownLatitude  TownLongitude  \\\n",
              "0  University of Pretoria  Pretoria -25.745937     28.187944       \n",
              "1  University of Pretoria  Pretoria -25.745937     28.187944       \n",
              "2  University of Pretoria  Pretoria -25.745937     28.187944       \n",
              "3  University of Pretoria  Pretoria -25.745937     28.187944       \n",
              "4  University of Pretoria  Pretoria -25.745937     28.187944       \n",
              "\n",
              "             VenueName  VenueLatitude  VenueLongitude VenueCategory  \n",
              "0  Café Riche          -25.746579      28.187304       Café          \n",
              "1  TriBeCa Coffee Shop -25.744835      28.188936       Coffee Shop   \n",
              "2  Church Square       -25.746366      28.188006       Plaza         \n",
              "3  Wimpy               -25.748014      28.189257       Burger Joint  \n",
              "4  Wimpy               -25.744685      28.189424       Burger Joint  "
            ]
          },
          "metadata": {
            "tags": []
          },
          "execution_count": 227
        }
      ]
    },
    {
      "cell_type": "code",
      "metadata": {
        "colab": {
          "base_uri": "https://localhost:8080/",
          "height": 322
        },
        "id": "U9hDyFzNQE-L",
        "outputId": "50f0d151-e252-4822-88be-8dd87be32b5d"
      },
      "source": [
        "\r\n",
        "venues_df.groupby([\"Institution\", \"Town\"]).count().head()"
      ],
      "execution_count": 230,
      "outputs": [
        {
          "output_type": "execute_result",
          "data": {
            "text/html": [
              "<div>\n",
              "<style scoped>\n",
              "    .dataframe tbody tr th:only-of-type {\n",
              "        vertical-align: middle;\n",
              "    }\n",
              "\n",
              "    .dataframe tbody tr th {\n",
              "        vertical-align: top;\n",
              "    }\n",
              "\n",
              "    .dataframe thead th {\n",
              "        text-align: right;\n",
              "    }\n",
              "</style>\n",
              "<table border=\"1\" class=\"dataframe\">\n",
              "  <thead>\n",
              "    <tr style=\"text-align: right;\">\n",
              "      <th></th>\n",
              "      <th></th>\n",
              "      <th>TownLatitude</th>\n",
              "      <th>TownLongitude</th>\n",
              "      <th>VenueName</th>\n",
              "      <th>VenueLatitude</th>\n",
              "      <th>VenueLongitude</th>\n",
              "      <th>VenueCategory</th>\n",
              "    </tr>\n",
              "    <tr>\n",
              "      <th>Institution</th>\n",
              "      <th>Town</th>\n",
              "      <th></th>\n",
              "      <th></th>\n",
              "      <th></th>\n",
              "      <th></th>\n",
              "      <th></th>\n",
              "      <th></th>\n",
              "    </tr>\n",
              "  </thead>\n",
              "  <tbody>\n",
              "    <tr>\n",
              "      <th>Tshwane University of Technology</th>\n",
              "      <th>Pretoria</th>\n",
              "      <td>10</td>\n",
              "      <td>10</td>\n",
              "      <td>10</td>\n",
              "      <td>10</td>\n",
              "      <td>10</td>\n",
              "      <td>10</td>\n",
              "    </tr>\n",
              "    <tr>\n",
              "      <th>University of Johannesburg</th>\n",
              "      <th>Johannesburg</th>\n",
              "      <td>6</td>\n",
              "      <td>6</td>\n",
              "      <td>6</td>\n",
              "      <td>6</td>\n",
              "      <td>6</td>\n",
              "      <td>6</td>\n",
              "    </tr>\n",
              "    <tr>\n",
              "      <th>University of Pretoria</th>\n",
              "      <th>Pretoria</th>\n",
              "      <td>10</td>\n",
              "      <td>10</td>\n",
              "      <td>10</td>\n",
              "      <td>10</td>\n",
              "      <td>10</td>\n",
              "      <td>10</td>\n",
              "    </tr>\n",
              "    <tr>\n",
              "      <th>University of the Witwatersrand</th>\n",
              "      <th>Johannesburg</th>\n",
              "      <td>6</td>\n",
              "      <td>6</td>\n",
              "      <td>6</td>\n",
              "      <td>6</td>\n",
              "      <td>6</td>\n",
              "      <td>6</td>\n",
              "    </tr>\n",
              "  </tbody>\n",
              "</table>\n",
              "</div>"
            ],
            "text/plain": [
              "                                               TownLatitude  TownLongitude  \\\n",
              "Institution                      Town                                        \n",
              "Tshwane University of Technology Pretoria      10            10              \n",
              "University of Johannesburg       Johannesburg  6             6               \n",
              "University of Pretoria           Pretoria      10            10              \n",
              "University of the Witwatersrand  Johannesburg  6             6               \n",
              "\n",
              "                                               VenueName  VenueLatitude  \\\n",
              "Institution                      Town                                     \n",
              "Tshwane University of Technology Pretoria      10         10              \n",
              "University of Johannesburg       Johannesburg  6          6               \n",
              "University of Pretoria           Pretoria      10         10              \n",
              "University of the Witwatersrand  Johannesburg  6          6               \n",
              "\n",
              "                                               VenueLongitude  VenueCategory  \n",
              "Institution                      Town                                         \n",
              "Tshwane University of Technology Pretoria      10              10             \n",
              "University of Johannesburg       Johannesburg  6               6              \n",
              "University of Pretoria           Pretoria      10              10             \n",
              "University of the Witwatersrand  Johannesburg  6               6              "
            ]
          },
          "metadata": {
            "tags": []
          },
          "execution_count": 230
        }
      ]
    },
    {
      "cell_type": "code",
      "metadata": {
        "colab": {
          "base_uri": "https://localhost:8080/"
        },
        "id": "CWxDQdHeQnnd",
        "outputId": "8d0f5aaf-8cf4-4e32-ccee-54a266887fa2"
      },
      "source": [
        "print('There are {} uniques categories.'.format(len(venues_df['VenueCategory'].unique())))"
      ],
      "execution_count": 231,
      "outputs": [
        {
          "output_type": "stream",
          "text": [
            "There are 9 uniques categories.\n"
          ],
          "name": "stdout"
        }
      ]
    },
    {
      "cell_type": "code",
      "metadata": {
        "colab": {
          "base_uri": "https://localhost:8080/"
        },
        "id": "hBYWDEe6REMn",
        "outputId": "432737ed-15f6-4398-8884-989de4e23fdb"
      },
      "source": [
        "venues_df['VenueCategory'].unique()[:10].tolist()"
      ],
      "execution_count": 233,
      "outputs": [
        {
          "output_type": "execute_result",
          "data": {
            "text/plain": [
              "['Café',\n",
              " 'Coffee Shop',\n",
              " 'Plaza',\n",
              " 'Burger Joint',\n",
              " 'Fast Food Restaurant',\n",
              " 'Pharmacy',\n",
              " 'Scenic Lookout',\n",
              " 'Breakfast Spot',\n",
              " 'Portuguese Restaurant']"
            ]
          },
          "metadata": {
            "tags": []
          },
          "execution_count": 233
        }
      ]
    },
    {
      "cell_type": "code",
      "metadata": {
        "id": "GL883RNFRJQO"
      },
      "source": [
        ""
      ],
      "execution_count": null,
      "outputs": []
    }
  ]
}