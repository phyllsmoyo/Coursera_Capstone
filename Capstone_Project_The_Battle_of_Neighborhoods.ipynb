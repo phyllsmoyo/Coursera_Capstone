{
  "nbformat": 4,
  "nbformat_minor": 0,
  "metadata": {
    "colab": {
      "name": "Capstone Project - The Battle of Neighborhoods.ipynb",
      "provenance": [],
      "collapsed_sections": [],
      "authorship_tag": "ABX9TyOlcoY/4oM52dBdk63R2+m+",
      "include_colab_link": true
    },
    "kernelspec": {
      "name": "python3",
      "display_name": "Python 3"
    }
  },
  "cells": [
    {
      "cell_type": "markdown",
      "metadata": {
        "id": "view-in-github",
        "colab_type": "text"
      },
      "source": [
        "<a href=\"https://colab.research.google.com/github/phyllsmoyo/Coursera_Capstone/blob/branch_1/Capstone_Project_The_Battle_of_Neighborhoods.ipynb\" target=\"_parent\"><img src=\"https://colab.research.google.com/assets/colab-badge.svg\" alt=\"Open In Colab\"/></a>"
      ]
    },
    {
      "cell_type": "markdown",
      "metadata": {
        "id": "YdrtX-j7cJhZ"
      },
      "source": [
        "**The Battle of Neighborhoods**\r\n",
        "\r\n",
        "by [Phillip Sinothi Moyo](https://www.linkedin.com/in/phyllsmoyo/)"
      ]
    },
    {
      "cell_type": "markdown",
      "metadata": {
        "id": "75TAEu0zd7Ot"
      },
      "source": [
        "**Introduction**\r\n",
        "\r\n",
        "Education is important for everyone in the world. Education is the process of achieving knowledge, values, skills, beliefs, and moral habits. For any country education enables people become better citizens, get a better-paid job, shows the difference between good and bad. Education shows us the importance of hard work and, at the same time, helps us grow and develop. Thus, we are able to shape a better society to live in by knowing and respecting rights, laws, and regulations. People without an education hardly get by in life because education teaches us how to think, how to work properly, and how to make decisions. The better the education, the more choices and opportunities one is going to have in life."
      ]
    },
    {
      "cell_type": "markdown",
      "metadata": {
        "id": "N0mEq5Vo1Q4E"
      },
      "source": [
        "**Importance of Education**\r\n",
        "\r\n",
        "A famous quote about education goes; \"Education is the key to success\". Education is important in the holistic development of a child’s social, emotional, cognitive and physical needs in order to build a solid and broad foundation for lifelong learning and wellbeing. \r\n"
      ]
    },
    {
      "cell_type": "markdown",
      "metadata": {
        "id": "IPSOWwpA1Vz7"
      },
      "source": [
        "**Business Problem**\r\n",
        "\r\n",
        "The objective of this project is to analyze universities and colleges of given provinces in South Africa and try to recommend the best Schools where they can send their children to school and are likely to obtain a good all around education with a balanced social life, on the other hand this project can be used by Department of Education and other wellwishers to identify poorly perfoming schools so that they can send required resources to improve the schools.\r\n",
        "\r\n",
        "The target audience for this project include parents, government and non-governental organizations insterested in the education sector."
      ]
    },
    {
      "cell_type": "markdown",
      "metadata": {
        "id": "vN9ZwZ0M3Wba"
      },
      "source": [
        "**Data**"
      ]
    },
    {
      "cell_type": "markdown",
      "metadata": {
        "id": "-Wtc5bh63_ey"
      },
      "source": [
        "To address the problem, we need to have the dataset that contains\r\n",
        "\r\n",
        "> * All the provinces of South Africa.\r\n",
        "> * All universities in South Africa.\r\n",
        "> * Latitude and longitudes of all the universities."
      ]
    },
    {
      "cell_type": "markdown",
      "metadata": {
        "id": "IHeqa8sR4nyB"
      },
      "source": [
        "Sources:\r\n",
        "1. [List of South African Universitis](https://en.wikipedia.org/wiki/List_of_universities_in_South_Africa)\r\n",
        "2. Obtain the coordinates of each University using thte Nominatin Geocorder.\r\n",
        "3. Explore the universities using the Foursquare API for each University.\r\n",
        "\r\n",
        "The Wikipedia is the major source of data that is being used to obtain all the Universities of South Africa. We then use the Pandas Library, a Python module that helps to scrape information from the web pages to extract all the tables from this Wikipedia page and convert it into a pandas dataframe. Then we use Python’s geopy package to obtain the latitude and longitude of all the Universities present in the dataframe."
      ]
    },
    {
      "cell_type": "markdown",
      "metadata": {
        "id": "O-h0LuFhbLH6"
      },
      "source": [
        "**Methodology**\r\n",
        "- Obtain data from the Wikipedia page.\r\n",
        "- Get coordinates using geocoder.\r\n",
        "- Get venues surrounding our universities of interest using the FourSquare API.\r\n",
        "- Filter venue categories.\r\n",
        "- Perform clustering on the data using k-means.\r\n",
        "- Visualize clusters using folium."
      ]
    }
  ]
}